{
  "nbformat": 4,
  "nbformat_minor": 0,
  "metadata": {
    "celltoolbar": "Create Assignment",
    "kernelspec": {
      "display_name": "py37  (Python3)",
      "language": "python",
      "name": "py37"
    },
    "language_info": {
      "codemirror_mode": {
        "name": "ipython",
        "version": 3
      },
      "file_extension": ".py",
      "mimetype": "text/x-python",
      "name": "python",
      "nbconvert_exporter": "python",
      "pygments_lexer": "ipython3",
      "version": "3.7.0"
    },
    "colab": {
      "provenance": []
    }
  },
  "cells": [
    {
      "cell_type": "markdown",
      "metadata": {
        "id": "cM-KfuCGdQ_9"
      },
      "source": [
        "*Unit 4, Sprint 1, Module 2*\n",
        "\n",
        "---\n",
        "\n",
        "# Vector Representations (Prepare)\n",
        "\n",
        "\n",
        "As we learned yesterday, machines cannot interpret raw text. We need to transform that text into something we/machines can more readily analyze. Yesterday, we did simple counts of counts to summarize the content of Amazon reviews. Today, we'll extend those concepts to talk about vector representations such as Bag of Words (BoW) and word embedding models. We'll use those representations for search, visualization, and prepare for our classification day tomorrow.\n",
        "\n",
        "Processing text data to prepare it for machine learning models often means translating the information from documents into a numerical format. Bag-of-Words approaches (sometimes referred to as Frequency-Based word embeddings) accomplish this by \"vectorizing\" tokenized documents. This is done by representing each document as a row in a DataFrame and creating a column for each unique word in the corpora (group of documents). The presence or lack of a given word in a document is then represented either as a raw count of how many times a given word appears in a document (CountVectorizer) or as that word's TF-IDF score (TfidfVectorizer).\n",
        "\n",
        "On the python side, we will be focusing on `sklearn` and `spacy` today.  \n",
        "\n",
        "## Case Study\n",
        "\n",
        "We're going to pretend we're on the datascience team at the BBC. We want to recommend articles to visitors to on the BBC website based on the article they just read.\n",
        "\n",
        "[BBC data set](http://mlg.ucd.ie/datasets/bbc.html)<br>\n",
        "For today's exercise, we have downloaded the \"raw text files\" from the \"BBC\" data set and focused on the tech articles only\n",
        "\n",
        "## Learning Objectives\n",
        "* <a href=\"#p1\">Part 1</a>: Represent a document as a vector\n",
        "* <a href=\"#p2\">Part 2</a>: Query Documents by Similarity\n",
        "* <a href=\"#p3\">Part 3</a>: Apply word embedding models to create document vectors"
      ]
    },
    {
      "cell_type": "markdown",
      "metadata": {
        "id": "uxtT9pdddRAB"
      },
      "source": [
        "### Let's start with an analogy\n",
        "\n",
        "![](https://peterbeshai.com/static/d9c3868cc1becd7648da453597a5d616/36dbb/DER_cube.jpg)\n",
        "\n",
        "Pretend that the objecting floating in the room is our raw text dataset (i.e. a collection of documents).\n",
        "\n",
        "A vectorizer is a mathematical transformation that takes our raw text data and transforms it into a numerical representation (i.e. numbers inside of vectors).\n",
        "\n",
        "Depending on which vectorizer you use, you will be capturing some of the information encoded in the text but not other information.\n",
        "\n",
        "So, as the analogy goes, depending which side of the floating object you stand and shine a light from, you will only see a portion of the information that exists in your text data set. Apply one vectorizer and you'll get word counts but not the contextual meaning; apply another vectorizer and you'll get the contextual meaning of the words but not the counts.\n",
        "\n",
        "**Take Away:** Understand the benefits and limitations of using each of the vectorizers that we'll be learning today.\n",
        "\n",
        "----"
      ]
    },
    {
      "cell_type": "markdown",
      "metadata": {
        "id": "RmTC1bWMBz02"
      },
      "source": [
        "# 0. Colab notebook setup"
      ]
    },
    {
      "cell_type": "markdown",
      "metadata": {
        "id": "si_FTZzkeGFD"
      },
      "source": [
        "##0.1 Get `spacy`"
      ]
    },
    {
      "cell_type": "code",
      "metadata": {
        "id": "eMfQKVrneA38",
        "colab": {
          "base_uri": "https://localhost:8080/"
        },
        "outputId": "ecef92c2-6aa6-4d1a-d41c-2ca60b125629"
      },
      "source": [
        "%%time\n",
        "# You'll use en_core_web_sm for the sprint challenge due memory constraints on Codegrader\n",
        "#!python -m spacy download en_core_web_sm\n",
        "\n",
        "# Locally (or on colab) let's use en_core_web_lg\n",
        "!python -m spacy download en_core_web_lg # Can do lg, takes awhile\n",
        "# Also on Colab, need to restart runtime after this step!\n",
        "#      or else Colab won't find spacy"
      ],
      "execution_count": null,
      "outputs": [
        {
          "output_type": "stream",
          "name": "stdout",
          "text": [
            "Collecting en-core-web-lg==3.7.1\n",
            "  Downloading https://github.com/explosion/spacy-models/releases/download/en_core_web_lg-3.7.1/en_core_web_lg-3.7.1-py3-none-any.whl (587.7 MB)\n",
            "\u001b[2K     \u001b[90m━━━━━━━━━━━━━━━━━━━━━━━━━━━━━━━━━━━━━━━━\u001b[0m \u001b[32m587.7/587.7 MB\u001b[0m \u001b[31m1.9 MB/s\u001b[0m eta \u001b[36m0:00:00\u001b[0m\n",
            "\u001b[?25hRequirement already satisfied: spacy<3.8.0,>=3.7.2 in /usr/local/lib/python3.10/dist-packages (from en-core-web-lg==3.7.1) (3.7.2)\n",
            "Requirement already satisfied: spacy-legacy<3.1.0,>=3.0.11 in /usr/local/lib/python3.10/dist-packages (from spacy<3.8.0,>=3.7.2->en-core-web-lg==3.7.1) (3.0.12)\n",
            "Requirement already satisfied: spacy-loggers<2.0.0,>=1.0.0 in /usr/local/lib/python3.10/dist-packages (from spacy<3.8.0,>=3.7.2->en-core-web-lg==3.7.1) (1.0.5)\n",
            "Requirement already satisfied: murmurhash<1.1.0,>=0.28.0 in /usr/local/lib/python3.10/dist-packages (from spacy<3.8.0,>=3.7.2->en-core-web-lg==3.7.1) (1.0.10)\n",
            "Requirement already satisfied: cymem<2.1.0,>=2.0.2 in /usr/local/lib/python3.10/dist-packages (from spacy<3.8.0,>=3.7.2->en-core-web-lg==3.7.1) (2.0.8)\n",
            "Requirement already satisfied: preshed<3.1.0,>=3.0.2 in /usr/local/lib/python3.10/dist-packages (from spacy<3.8.0,>=3.7.2->en-core-web-lg==3.7.1) (3.0.9)\n",
            "Requirement already satisfied: thinc<8.3.0,>=8.1.8 in /usr/local/lib/python3.10/dist-packages (from spacy<3.8.0,>=3.7.2->en-core-web-lg==3.7.1) (8.2.2)\n",
            "Requirement already satisfied: wasabi<1.2.0,>=0.9.1 in /usr/local/lib/python3.10/dist-packages (from spacy<3.8.0,>=3.7.2->en-core-web-lg==3.7.1) (1.1.2)\n",
            "Requirement already satisfied: srsly<3.0.0,>=2.4.3 in /usr/local/lib/python3.10/dist-packages (from spacy<3.8.0,>=3.7.2->en-core-web-lg==3.7.1) (2.4.8)\n",
            "Requirement already satisfied: catalogue<2.1.0,>=2.0.6 in /usr/local/lib/python3.10/dist-packages (from spacy<3.8.0,>=3.7.2->en-core-web-lg==3.7.1) (2.0.10)\n",
            "Requirement already satisfied: weasel<0.4.0,>=0.1.0 in /usr/local/lib/python3.10/dist-packages (from spacy<3.8.0,>=3.7.2->en-core-web-lg==3.7.1) (0.3.4)\n",
            "Requirement already satisfied: typer<0.10.0,>=0.3.0 in /usr/local/lib/python3.10/dist-packages (from spacy<3.8.0,>=3.7.2->en-core-web-lg==3.7.1) (0.9.0)\n",
            "Requirement already satisfied: smart-open<7.0.0,>=5.2.1 in /usr/local/lib/python3.10/dist-packages (from spacy<3.8.0,>=3.7.2->en-core-web-lg==3.7.1) (6.4.0)\n",
            "Requirement already satisfied: tqdm<5.0.0,>=4.38.0 in /usr/local/lib/python3.10/dist-packages (from spacy<3.8.0,>=3.7.2->en-core-web-lg==3.7.1) (4.66.1)\n",
            "Requirement already satisfied: requests<3.0.0,>=2.13.0 in /usr/local/lib/python3.10/dist-packages (from spacy<3.8.0,>=3.7.2->en-core-web-lg==3.7.1) (2.31.0)\n",
            "Requirement already satisfied: pydantic!=1.8,!=1.8.1,<3.0.0,>=1.7.4 in /usr/local/lib/python3.10/dist-packages (from spacy<3.8.0,>=3.7.2->en-core-web-lg==3.7.1) (2.6.0)\n",
            "Requirement already satisfied: jinja2 in /usr/local/lib/python3.10/dist-packages (from spacy<3.8.0,>=3.7.2->en-core-web-lg==3.7.1) (3.1.3)\n",
            "Requirement already satisfied: setuptools in /usr/local/lib/python3.10/dist-packages (from spacy<3.8.0,>=3.7.2->en-core-web-lg==3.7.1) (67.7.2)\n",
            "Requirement already satisfied: packaging>=20.0 in /usr/local/lib/python3.10/dist-packages (from spacy<3.8.0,>=3.7.2->en-core-web-lg==3.7.1) (23.2)\n",
            "Requirement already satisfied: langcodes<4.0.0,>=3.2.0 in /usr/local/lib/python3.10/dist-packages (from spacy<3.8.0,>=3.7.2->en-core-web-lg==3.7.1) (3.3.0)\n",
            "Requirement already satisfied: numpy>=1.19.0 in /usr/local/lib/python3.10/dist-packages (from spacy<3.8.0,>=3.7.2->en-core-web-lg==3.7.1) (1.23.5)\n",
            "Requirement already satisfied: annotated-types>=0.4.0 in /usr/local/lib/python3.10/dist-packages (from pydantic!=1.8,!=1.8.1,<3.0.0,>=1.7.4->spacy<3.8.0,>=3.7.2->en-core-web-lg==3.7.1) (0.6.0)\n",
            "Requirement already satisfied: pydantic-core==2.16.1 in /usr/local/lib/python3.10/dist-packages (from pydantic!=1.8,!=1.8.1,<3.0.0,>=1.7.4->spacy<3.8.0,>=3.7.2->en-core-web-lg==3.7.1) (2.16.1)\n",
            "Requirement already satisfied: typing-extensions>=4.6.1 in /usr/local/lib/python3.10/dist-packages (from pydantic!=1.8,!=1.8.1,<3.0.0,>=1.7.4->spacy<3.8.0,>=3.7.2->en-core-web-lg==3.7.1) (4.9.0)\n",
            "Requirement already satisfied: charset-normalizer<4,>=2 in /usr/local/lib/python3.10/dist-packages (from requests<3.0.0,>=2.13.0->spacy<3.8.0,>=3.7.2->en-core-web-lg==3.7.1) (3.3.2)\n",
            "Requirement already satisfied: idna<4,>=2.5 in /usr/local/lib/python3.10/dist-packages (from requests<3.0.0,>=2.13.0->spacy<3.8.0,>=3.7.2->en-core-web-lg==3.7.1) (3.6)\n",
            "Requirement already satisfied: urllib3<3,>=1.21.1 in /usr/local/lib/python3.10/dist-packages (from requests<3.0.0,>=2.13.0->spacy<3.8.0,>=3.7.2->en-core-web-lg==3.7.1) (2.0.7)\n",
            "Requirement already satisfied: certifi>=2017.4.17 in /usr/local/lib/python3.10/dist-packages (from requests<3.0.0,>=2.13.0->spacy<3.8.0,>=3.7.2->en-core-web-lg==3.7.1) (2024.2.2)\n",
            "Requirement already satisfied: blis<0.8.0,>=0.7.8 in /usr/local/lib/python3.10/dist-packages (from thinc<8.3.0,>=8.1.8->spacy<3.8.0,>=3.7.2->en-core-web-lg==3.7.1) (0.7.11)\n",
            "Requirement already satisfied: confection<1.0.0,>=0.0.1 in /usr/local/lib/python3.10/dist-packages (from thinc<8.3.0,>=8.1.8->spacy<3.8.0,>=3.7.2->en-core-web-lg==3.7.1) (0.1.4)\n",
            "Requirement already satisfied: click<9.0.0,>=7.1.1 in /usr/local/lib/python3.10/dist-packages (from typer<0.10.0,>=0.3.0->spacy<3.8.0,>=3.7.2->en-core-web-lg==3.7.1) (8.1.7)\n",
            "Requirement already satisfied: cloudpathlib<0.17.0,>=0.7.0 in /usr/local/lib/python3.10/dist-packages (from weasel<0.4.0,>=0.1.0->spacy<3.8.0,>=3.7.2->en-core-web-lg==3.7.1) (0.16.0)\n",
            "Requirement already satisfied: MarkupSafe>=2.0 in /usr/local/lib/python3.10/dist-packages (from jinja2->spacy<3.8.0,>=3.7.2->en-core-web-lg==3.7.1) (2.1.5)\n",
            "Installing collected packages: en-core-web-lg\n",
            "Successfully installed en-core-web-lg-3.7.1\n",
            "\u001b[38;5;2m✔ Download and installation successful\u001b[0m\n",
            "You can now load the package via spacy.load('en_core_web_lg')\n",
            "CPU times: user 451 ms, sys: 56.6 ms, total: 507 ms\n",
            "Wall time: 45.6 s\n"
          ]
        }
      ]
    },
    {
      "cell_type": "markdown",
      "metadata": {
        "id": "IRKrvC4feP15"
      },
      "source": [
        "##0.2 Restart the runtime!"
      ]
    },
    {
      "cell_type": "markdown",
      "metadata": {
        "id": "Eba3NjeAO-Ha"
      },
      "source": [
        "## 0.3 Imports"
      ]
    },
    {
      "cell_type": "code",
      "metadata": {
        "id": "0XVf_1L3dRAD"
      },
      "source": [
        "\"\"\" Import Statements \"\"\"\n",
        "\n",
        "# Classics\n",
        "import numpy as np\n",
        "import pandas as pd\n",
        "import seaborn as sns\n",
        "import matplotlib.pyplot as plt\n",
        "\n",
        "from sklearn.feature_extraction.text import CountVectorizer, TfidfVectorizer\n",
        "from sklearn.metrics.pairwise import cosine_similarity\n",
        "from sklearn.neighbors import NearestNeighbors\n",
        "from sklearn.decomposition import PCA\n",
        "\n",
        "import spacy\n",
        "nlp = spacy.load(\"en_core_web_lg\")"
      ],
      "execution_count": null,
      "outputs": []
    },
    {
      "cell_type": "markdown",
      "metadata": {
        "id": "55skIZ7eidH7"
      },
      "source": [
        "##0.4 Clone the git repo\n",
        "so we can access the files in the `/data` folder"
      ]
    },
    {
      "cell_type": "code",
      "metadata": {
        "id": "kpgi5SBuePAD",
        "colab": {
          "base_uri": "https://localhost:8080/"
        },
        "outputId": "8be3ead5-db2b-40f2-d332-8595526e9335"
      },
      "source": [
        "!git clone https://github.com/LambdaSchool/DS-Unit-4-Sprint-1-NLP.git"
      ],
      "execution_count": null,
      "outputs": [
        {
          "output_type": "stream",
          "name": "stdout",
          "text": [
            "Cloning into 'DS-Unit-4-Sprint-1-NLP'...\n",
            "remote: Enumerating objects: 1742, done.\u001b[K\n",
            "remote: Counting objects: 100% (210/210), done.\u001b[K\n",
            "remote: Compressing objects: 100% (122/122), done.\u001b[K\n",
            "remote: Total 1742 (delta 115), reused 157 (delta 88), pack-reused 1532\u001b[K\n",
            "Receiving objects: 100% (1742/1742), 60.07 MiB | 8.71 MiB/s, done.\n",
            "Resolving deltas: 100% (284/284), done.\n"
          ]
        }
      ]
    },
    {
      "cell_type": "markdown",
      "metadata": {
        "id": "JD4Kv86TjEfJ"
      },
      "source": [
        "## 0.5 Get the BBC tech articles data"
      ]
    },
    {
      "cell_type": "markdown",
      "metadata": {
        "id": "4v8uWdQRBjF7"
      },
      "source": [
        "Helper function to read articles in `.txt` files in a specified directory and gather them into a big list"
      ]
    },
    {
      "cell_type": "code",
      "metadata": {
        "id": "6m0vfCnqdRAI"
      },
      "source": [
        "import os\n",
        "\n",
        "def gather_data(filefolder):\n",
        "    \"\"\" Produces List of Documents from a Directory\n",
        "\n",
        "    filefolder (str): a path of .txt files\n",
        "\n",
        "    returns list of strings\n",
        "    \"\"\"\n",
        "\n",
        "    data = []\n",
        "\n",
        "    files = os.listdir(filefolder) # Causes variation across machines\n",
        "\n",
        "    for filename in files:\n",
        "\n",
        "        path = os.path.join(filefolder, filename)\n",
        "\n",
        "        if  path[-3:] == 'txt': # os ~endswith('txt')\n",
        "            with open(path, 'rb') as f:\n",
        "                data.append(f.read())\n",
        "\n",
        "    return data"
      ],
      "execution_count": null,
      "outputs": []
    },
    {
      "cell_type": "markdown",
      "metadata": {
        "id": "XSH2TnEnBsK7"
      },
      "source": [
        "Read the articles into a list"
      ]
    },
    {
      "cell_type": "code",
      "metadata": {
        "id": "gFsYq8x6dRAJ",
        "colab": {
          "base_uri": "https://localhost:8080/"
        },
        "outputId": "0056b736-c70a-4693-f20a-3da864b9b4df"
      },
      "source": [
        "# locate and get path to the /data folder, using colab's file browser\n",
        "data_path = '/content/DS-Unit-4-Sprint-1-NLP/module2-vector-representations/data'\n",
        "data = gather_data(data_path)\n",
        "print(f'Number of Articles: {len(data)}')"
      ],
      "execution_count": null,
      "outputs": [
        {
          "output_type": "stream",
          "name": "stdout",
          "text": [
            "Number of Articles: 401\n"
          ]
        }
      ]
    },
    {
      "cell_type": "markdown",
      "metadata": {
        "id": "2gx9kYDLCGtN"
      },
      "source": [
        "Articles turn out to be \"byte strings\" so we need to decode them to strings"
      ]
    },
    {
      "cell_type": "code",
      "metadata": {
        "id": "IC8NUCwhCY3Z",
        "colab": {
          "base_uri": "https://localhost:8080/"
        },
        "outputId": "65478c70-384b-454f-c54f-21d3fdb0f81d"
      },
      "source": [
        "print(data[20])\n",
        "print(type(data[20]))"
      ],
      "execution_count": null,
      "outputs": [
        {
          "output_type": "stream",
          "name": "stdout",
          "text": [
            "b'New delay hits EU software laws\\n\\nA fresh delay has hit controversial new European Union rules which govern computer-based inventions.\\n\\nThe draft law was not adopted by EU ministers as planned at a Brussels meeting on Monday during which it was supposed to have been discussed. The fresh delay came after Polish officials had raised concerns about the law for the second time in two months. Critics say the law would favour large companies over small ones and could impact open-source software innovation. \"There was at one point the intention to put the item on today\\'s agenda. But in the end we could not put it on,\" an EU spokesman told the Reuters agency. He added that no date had been chosen for more discussion of the law.\\n\\nIn December, Poland requested more time to consider the issue because it was concerned that the law could lead to the patenting of pure computer software. Its ministers want to see the phrasing of the text of the Directive on the Patentability of Computer-Implemented Inventions changed so that it excludes software patenting. Poland is a large EU member, so its backing for the legislation is vital. The EU says the law would bring Europe more in line with how such laws work in the US, but this has caused some angry debate amongst critics and supporters. In the US, the patenting of computer programs and internet business methods is permitted. This means that the US-based Amazon.com holds a patent for its \"one-click shopping\" service. Critics say a similar model in Europe would hurt small software developers which do not have the legal and financial might of larger companies. But supporters say current law does not let big companies protect inventions which they have spent years developing.\\n'\n",
            "<class 'bytes'>\n"
          ]
        }
      ]
    },
    {
      "cell_type": "code",
      "metadata": {
        "id": "ubER5c_yPLMG",
        "colab": {
          "base_uri": "https://localhost:8080/"
        },
        "outputId": "b7e9a416-a99f-4a13-afd3-2cb732ef8ef4"
      },
      "source": [
        "# decode bytestrings in a corpus to strings\n",
        "# takes a list of documents, i.e a list of strings as input\n",
        "articles = []\n",
        "for article in data:\n",
        "  article = article.decode(\"utf-8\")\n",
        "  articles.append(article)\n",
        "print(len(articles))\n",
        "\n",
        "# Preview first article and check data type again\n",
        "data = articles\n",
        "print(data[0])\n",
        "print(type(data[0]))"
      ],
      "execution_count": null,
      "outputs": [
        {
          "output_type": "stream",
          "name": "stdout",
          "text": [
            "401\n",
            "Reboot ordered for EU patent law\n",
            "\n",
            "A European Parliament committee has ordered a rewrite of the proposals for controversial new European Union rules which govern computer-based inventions.\n",
            "\n",
            "The Legal Affairs Committee (JURI) said the Commission should re-submit the Computer Implemented Inventions Directive after MEPs failed to back it. It has had vocal critics who say it could favour large over small firms and impact open-source software innovation. Supporters say it would let firms protect their inventions. The directive is intended to offer patent protection to inventions that use software to achieve their effect, in other words, \"computer implemented invention\". The draft law suffered setbacks when Poland, one of the largest EU member states, rejected its adoption twice in two months. Intense lobbying on the issue has started to gain momentum in some national parliaments putting them under immense pressure. Only two MEPs backed the draft law at the JURI meeting, with one voting to abstain.\n",
            "\n",
            "Opponents of the draft directive welcomed the decision and said a new first reading of the proposals would give the EU a chance to have fuller debates about its implications in all member states. In the US, the patenting of computer programs and internet business methods is permitted. This means that the US-based Amazon.com holds a patent for its \"one-click shopping\" service, for example. Critics are concerned that the directive could lead to a similar model happening in Europe. This, they fear, could hurt small software developers because they do not have the legal and financial might of larger companies if they had to fight patent legal action in court. Supporters say current laws are inefficient and it would serve to even up a playing field without bringing EU laws in line with the US.\n",
            "\n",
            "<class 'str'>\n"
          ]
        }
      ]
    },
    {
      "cell_type": "markdown",
      "metadata": {
        "id": "2CF_285ECuXV"
      },
      "source": [
        "Make a `spacy` tokenizer, as in Module 1<br>\n",
        "Question: why did we use [`.strip()`](https://python-reference.readthedocs.io/en/latest/docs/str/strip.html)?"
      ]
    },
    {
      "cell_type": "code",
      "metadata": {
        "id": "XlnxqpI2dRAQ"
      },
      "source": [
        "def tokenize(document):\n",
        "    \"\"\"\n",
        "    Takes a doc (text string) and returns a list of tokens in the form of lemmas.\n",
        "    Filters out Stop words, punctuation, and leading/trailing spaces.\n",
        "    \"\"\"\n",
        "\n",
        "    doc = nlp(document)\n",
        "    # last \"and\" statement is to remove token lemmas that are empty strings\n",
        "    lemma_list = [token.lemma_.lower().strip() for token in doc if (not token.is_stop)\n",
        "                                                                and (not token.is_punct )\n",
        "                                                                and (token.lemma_.strip()!=\"\")\n",
        "                                                                and (len(token.lemma_.strip())>1)]\n",
        "    return lemma_list"
      ],
      "execution_count": null,
      "outputs": []
    },
    {
      "cell_type": "code",
      "source": [
        "# Test our tokenizer\n",
        "tokenize('how much wood could a woodchuck chuck')"
      ],
      "metadata": {
        "id": "NpDrlDB8SuGH",
        "colab": {
          "base_uri": "https://localhost:8080/"
        },
        "outputId": "66c5d298-70aa-43c7-f85b-90bec65222e0"
      },
      "execution_count": null,
      "outputs": [
        {
          "output_type": "execute_result",
          "data": {
            "text/plain": [
              "['wood', 'woodchuck', 'chuck']"
            ]
          },
          "metadata": {},
          "execution_count": 7
        }
      ]
    },
    {
      "cell_type": "code",
      "metadata": {
        "id": "DKox9ksM2RWM",
        "colab": {
          "base_uri": "https://localhost:8080/",
          "height": 105
        },
        "outputId": "06601ec6-af43-4583-f09f-93ff068b2114"
      },
      "source": [
        "data[20]"
      ],
      "execution_count": null,
      "outputs": [
        {
          "output_type": "execute_result",
          "data": {
            "text/plain": [
              "'New delay hits EU software laws\\n\\nA fresh delay has hit controversial new European Union rules which govern computer-based inventions.\\n\\nThe draft law was not adopted by EU ministers as planned at a Brussels meeting on Monday during which it was supposed to have been discussed. The fresh delay came after Polish officials had raised concerns about the law for the second time in two months. Critics say the law would favour large companies over small ones and could impact open-source software innovation. \"There was at one point the intention to put the item on today\\'s agenda. But in the end we could not put it on,\" an EU spokesman told the Reuters agency. He added that no date had been chosen for more discussion of the law.\\n\\nIn December, Poland requested more time to consider the issue because it was concerned that the law could lead to the patenting of pure computer software. Its ministers want to see the phrasing of the text of the Directive on the Patentability of Computer-Implemented Inventions changed so that it excludes software patenting. Poland is a large EU member, so its backing for the legislation is vital. The EU says the law would bring Europe more in line with how such laws work in the US, but this has caused some angry debate amongst critics and supporters. In the US, the patenting of computer programs and internet business methods is permitted. This means that the US-based Amazon.com holds a patent for its \"one-click shopping\" service. Critics say a similar model in Europe would hurt small software developers which do not have the legal and financial might of larger companies. But supporters say current law does not let big companies protect inventions which they have spent years developing.\\n'"
            ],
            "application/vnd.google.colaboratory.intrinsic+json": {
              "type": "string"
            }
          },
          "metadata": {},
          "execution_count": 9
        }
      ]
    },
    {
      "cell_type": "code",
      "metadata": {
        "id": "n4Zl0PeDOigp",
        "colab": {
          "base_uri": "https://localhost:8080/"
        },
        "outputId": "ebf7d261-5722-46bb-f97d-ba2ba2256de6"
      },
      "source": [
        "tokenize(data[20])"
      ],
      "execution_count": null,
      "outputs": [
        {
          "output_type": "execute_result",
          "data": {
            "text/plain": [
              "['blinx',\n",
              " 'sequel',\n",
              " 'purr',\n",
              " 'nicely',\n",
              " 'original',\n",
              " 'blinx',\n",
              " 'intend',\n",
              " 'convert',\n",
              " 'platform',\n",
              " 'game',\n",
              " 'lover',\n",
              " 'microsoft',\n",
              " 'new',\n",
              " 'xbox',\n",
              " 'console',\n",
              " 'sharp',\n",
              " 'graphic',\n",
              " 'novel',\n",
              " 'gameplay',\n",
              " 'main',\n",
              " 'character',\n",
              " 'able',\n",
              " 'pause',\n",
              " 'slow',\n",
              " 'rewind',\n",
              " 'fast',\n",
              " 'forward',\n",
              " 'time',\n",
              " 'mean',\n",
              " 'lure',\n",
              " 'fan',\n",
              " 'new',\n",
              " 'machine',\n",
              " 'poor',\n",
              " 'design',\n",
              " 'mean',\n",
              " 'game',\n",
              " 'frustrating',\n",
              " 'affair',\n",
              " 'player',\n",
              " 'strand',\n",
              " 'half',\n",
              " 'way',\n",
              " 'level',\n",
              " 'require',\n",
              " 'tool',\n",
              " 'finish',\n",
              " 'thankfully',\n",
              " 'sequel',\n",
              " 'fix',\n",
              " 'original',\n",
              " 'fault',\n",
              " 'time',\n",
              " 'play',\n",
              " 'blinx',\n",
              " 'instead',\n",
              " 'give',\n",
              " 'chance',\n",
              " 'create',\n",
              " 'unique',\n",
              " 'cat',\n",
              " 'character',\n",
              " 'pig',\n",
              " 'character',\n",
              " 'character',\n",
              " 'generator',\n",
              " 'detailed',\n",
              " 'minute',\n",
              " 'tweak',\n",
              " 'adjusting',\n",
              " 'create',\n",
              " 'unique',\n",
              " 'personality',\n",
              " 'unleash',\n",
              " 'game',\n",
              " 'game',\n",
              " 'progress',\n",
              " 'swap',\n",
              " 'rival',\n",
              " 'faction',\n",
              " 'pig',\n",
              " 'feline',\n",
              " 'assume',\n",
              " 'role',\n",
              " 'create',\n",
              " 'character',\n",
              " 'thrust',\n",
              " 'game',\n",
              " 'see',\n",
              " 'faction',\n",
              " 'compete',\n",
              " 'recover',\n",
              " 'piece',\n",
              " 'missing',\n",
              " 'time',\n",
              " 'crystal',\n",
              " 'original',\n",
              " 'feline',\n",
              " 'persona',\n",
              " 'control',\n",
              " 'time',\n",
              " 'time',\n",
              " 'pig',\n",
              " 'control',\n",
              " 'space',\n",
              " 'number',\n",
              " 'puzzle',\n",
              " 'require',\n",
              " 'control',\n",
              " 'time',\n",
              " 'solve',\n",
              " 'pig',\n",
              " 'create',\n",
              " 'thing',\n",
              " 'warp',\n",
              " 'space',\n",
              " 'bubble',\n",
              " 'void',\n",
              " 'trap',\n",
              " 'order',\n",
              " 'progress',\n",
              " 'control',\n",
              " 'space',\n",
              " 'time',\n",
              " 'achieve',\n",
              " 'number',\n",
              " 'vcr',\n",
              " 'style',\n",
              " 'icon',\n",
              " 'intuitive',\n",
              " 'annoyingly',\n",
              " 'puzzle',\n",
              " 'little',\n",
              " 'obviously',\n",
              " 'flag',\n",
              " 'gamer',\n",
              " 'find',\n",
              " 'chore',\n",
              " 'challenge',\n",
              " 'solve',\n",
              " 'game',\n",
              " 'try',\n",
              " 'emulate',\n",
              " 'franchise',\n",
              " 'jak',\n",
              " 'daxter',\n",
              " 'ratchet',\n",
              " 'clank',\n",
              " 'ps2',\n",
              " 'number',\n",
              " 'combat',\n",
              " 'element',\n",
              " 'little',\n",
              " 'predictable',\n",
              " 'tend',\n",
              " 'drag',\n",
              " 'general',\n",
              " 'polish',\n",
              " 'game',\n",
              " 'dulled',\n",
              " 'affair',\n",
              " 'game',\n",
              " 'excellent',\n",
              " 'graphic',\n",
              " 'easily',\n",
              " 'well',\n",
              " 'look',\n",
              " 'platform',\n",
              " 'game',\n",
              " 'sound',\n",
              " 'dollop',\n",
              " 'humour',\n",
              " 'attractive',\n",
              " 'game',\n",
              " 'young',\n",
              " 'platform',\n",
              " 'fan',\n",
              " 'blinx',\n",
              " 'xbox']"
            ]
          },
          "metadata": {},
          "execution_count": 12
        }
      ]
    },
    {
      "cell_type": "markdown",
      "metadata": {
        "id": "wvGZ-eiUdRAB"
      },
      "source": [
        "# 1. Represent a document as a vector (Learn)\n",
        "<a id=\"p1\"></a>"
      ]
    },
    {
      "cell_type": "markdown",
      "metadata": {
        "id": "CSUmQeX5dRAC"
      },
      "source": [
        "## Overview\n",
        "\n",
        "In this section, we are going to create Document Term Matrices (DTM). <br>\n",
        "In the DTM, each row represents a document. The columns correspond to the vocabulary words of the entire corpus of documents. <br>\n",
        "Today, we'll learn three methods of computing the value in each cell. <br>\n",
        "* `CountVectorizer` from `sklearn` provides a basic implementation: counts of appearances of words. You could also ignore multiple occurrences of words in a document, and just keep track of whether or not a word occurs in the document via a boolean value.<br>\n",
        "* `TfidfVectorizer` is a more advanced implementation that keeps track of *term-frequency inverse-document frequency* (TF-IDF) instead of integer counts.\n",
        "\n",
        "* Word embeddings, an even more sophisticated method that helps solve the problem of accounting for the context of a word.\n",
        "\n",
        "**Discussion:** Don't we lose all the context and grammar if we do this? So Why does it work?"
      ]
    },
    {
      "cell_type": "markdown",
      "metadata": {
        "toc-hr-collapsed": true,
        "id": "TQQRch8mdRAD"
      },
      "source": [
        "## Follow Along"
      ]
    },
    {
      "cell_type": "markdown",
      "metadata": {
        "id": "wVIflCt1dRAF"
      },
      "source": [
        "**Warm Up (_3 Minutes_)**\n",
        "\n",
        "Extract the tokens from this sentence using Spacy. Text is from [OpenAI](https://openai.com/blog/better-language-models/)"
      ]
    },
    {
      "cell_type": "code",
      "metadata": {
        "id": "yg63BJ6-dRAG",
        "colab": {
          "base_uri": "https://localhost:8080/"
        },
        "outputId": "48b25bc4-d057-45f1-c00c-192c80946cbb"
      },
      "source": [
        "text = \"\"\"\n",
        "GPT-2 displays a broad set of capabilities, including the ability to generate conditional synthetic text samples of unprecedented quality,\n",
        "where we prime the model with an input and have it generate a lengthy continuation. In addition, GPT-2 outperforms other language models\n",
        "trained on specific domains (like Wikipedia, news, or books) without needing to use these domain-specific training datasets. On language\n",
        "tasks like question answering, reading comprehension, summarization, and translation, GPT-2 begins to learn these tasks from the raw text,\n",
        "using no task-specific training data. While scores on these downstream tasks are far from state-of-the-art, they suggest that the tasks\n",
        "can benefit from unsupervised techniques, given sufficient (unlabeled) data and compute.\"\"\"\n",
        "\n",
        "print(f'Number of Words: {len(text.split())}')"
      ],
      "execution_count": null,
      "outputs": [
        {
          "output_type": "stream",
          "name": "stdout",
          "text": [
            "Number of Words: 110\n"
          ]
        }
      ]
    },
    {
      "cell_type": "code",
      "metadata": {
        "id": "r9rHYGcKRX-n",
        "colab": {
          "base_uri": "https://localhost:8080/"
        },
        "outputId": "94cd4154-f9d2-4ae6-f329-40d19e1029b0"
      },
      "source": [
        "tokens = tokenize(text)\n",
        "print(f'Number of Words: {len(tokens)}')\n",
        "tokens"
      ],
      "execution_count": null,
      "outputs": [
        {
          "output_type": "stream",
          "name": "stdout",
          "text": [
            "Number of Words: 73\n"
          ]
        },
        {
          "output_type": "execute_result",
          "data": {
            "text/plain": [
              "['gpt-2',\n",
              " 'display',\n",
              " 'broad',\n",
              " 'set',\n",
              " 'capability',\n",
              " 'include',\n",
              " 'ability',\n",
              " 'generate',\n",
              " 'conditional',\n",
              " 'synthetic',\n",
              " 'text',\n",
              " 'sample',\n",
              " 'unprecedented',\n",
              " 'quality',\n",
              " 'prime',\n",
              " 'model',\n",
              " 'input',\n",
              " 'generate',\n",
              " 'lengthy',\n",
              " 'continuation',\n",
              " 'addition',\n",
              " 'gpt-2',\n",
              " 'outperform',\n",
              " 'language',\n",
              " 'model',\n",
              " 'train',\n",
              " 'specific',\n",
              " 'domain',\n",
              " 'like',\n",
              " 'wikipedia',\n",
              " 'news',\n",
              " 'book',\n",
              " 'need',\n",
              " 'use',\n",
              " 'domain',\n",
              " 'specific',\n",
              " 'training',\n",
              " 'dataset',\n",
              " 'language',\n",
              " 'task',\n",
              " 'like',\n",
              " 'question',\n",
              " 'answering',\n",
              " 'read',\n",
              " 'comprehension',\n",
              " 'summarization',\n",
              " 'translation',\n",
              " 'gpt-2',\n",
              " 'begin',\n",
              " 'learn',\n",
              " 'task',\n",
              " 'raw',\n",
              " 'text',\n",
              " 'task',\n",
              " 'specific',\n",
              " 'training',\n",
              " 'datum',\n",
              " 'score',\n",
              " 'downstream',\n",
              " 'task',\n",
              " 'far',\n",
              " 'state',\n",
              " 'art',\n",
              " 'suggest',\n",
              " 'task',\n",
              " 'benefit',\n",
              " 'unsupervised',\n",
              " 'technique',\n",
              " 'give',\n",
              " 'sufficient',\n",
              " 'unlabeled',\n",
              " 'datum',\n",
              " 'compute']"
            ]
          },
          "metadata": {},
          "execution_count": 9
        }
      ]
    },
    {
      "cell_type": "markdown",
      "metadata": {
        "id": "5kJlWC4BdRAK"
      },
      "source": [
        "-----\n",
        "# 1.1 `CountVectorizer`\n",
        "\n",
        "![](https://images4.programmersought.com/947/0a/0acb9279d17a1631bcfb154583cca443.JPEG)"
      ]
    },
    {
      "cell_type": "code",
      "metadata": {
        "nbgrader": {
          "grade": false,
          "grade_id": "cell-c6a74f21ed3917ee",
          "locked": false,
          "schema_version": 3,
          "solution": true,
          "task": false
        },
        "id": "gRM5YA8KdRAK",
        "colab": {
          "base_uri": "https://localhost:8080/"
        },
        "outputId": "719a41f7-6b6c-4969-8857-4dde1ec56500"
      },
      "source": [
        "from sklearn.feature_extraction.text import CountVectorizer\n",
        "\n",
        "\n",
        "# list of text documents\n",
        "\n",
        "# create the transformer\n",
        "\n",
        "# build vocab\n",
        "\n",
        "# transform text\n",
        "\n",
        "### BEGIN SOLUTION\n",
        "# a corpus is a collection of text documents\n",
        "corpus = [\"We created a new dataset which emphasizes diversity of content, by scraping content from the Internet.\",\n",
        "          \" In order to preserve document quality, we used only pages which have been curated/filtered by humans—specifically, we used outbound links from Reddit which received at least 3 karma.\",\n",
        "          \" This can be thought of as a heuristic indicator for whether other users found the link interesting (whether educational or funny), leading to higher data quality than other similar datasets, such as CommonCrawl.\"]\n",
        "\n",
        "# create the transformer\n",
        "vect = CountVectorizer()\n",
        "\n",
        "# build vocabulary\n",
        "vect.fit(corpus)\n",
        "\n",
        "# transform text to create the document-term matrix\n",
        "dtm = vect.transform(corpus)\n",
        "dtm\n",
        "\n",
        "### END SOLUTION"
      ],
      "execution_count": null,
      "outputs": [
        {
          "output_type": "execute_result",
          "data": {
            "text/plain": [
              "<3x61 sparse matrix of type '<class 'numpy.int64'>'\n",
              "\twith 69 stored elements in Compressed Sparse Row format>"
            ]
          },
          "metadata": {},
          "execution_count": 10
        }
      ]
    },
    {
      "cell_type": "code",
      "metadata": {
        "nbgrader": {
          "grade": false,
          "grade_id": "cell-93323028a4bfd7e7",
          "locked": false,
          "schema_version": 3,
          "solution": true,
          "task": false
        },
        "scrolled": true,
        "id": "YGKln3xLdRAL",
        "colab": {
          "base_uri": "https://localhost:8080/"
        },
        "outputId": "921abdde-a475-4516-a0d5-2a709c219f7a"
      },
      "source": [
        "# explore the document-term matrix\n",
        "\n",
        "# Get feature names\n",
        "\n",
        "# print out raw text for comparison with  indexing\n",
        "\n",
        "# show indexing of token count\n",
        "\n",
        "# Dealing with Sparse Matrix\n",
        "\n",
        "# Get Word Counts for each document\n",
        "\n",
        "### BEGIN SOLUTION\n",
        "\n",
        "# Get feature names -- this is the \"vocablulary\" for the corpus\n",
        "print(vect.get_feature_names_out())"
      ],
      "execution_count": null,
      "outputs": [
        {
          "output_type": "stream",
          "name": "stdout",
          "text": [
            "['as' 'at' 'be' 'been' 'by' 'can' 'commoncrawl' 'content' 'created'\n",
            " 'curated' 'data' 'dataset' 'datasets' 'diversity' 'document'\n",
            " 'educational' 'emphasizes' 'filtered' 'for' 'found' 'from' 'funny' 'have'\n",
            " 'heuristic' 'higher' 'humans' 'in' 'indicator' 'interesting' 'internet'\n",
            " 'karma' 'leading' 'least' 'link' 'links' 'new' 'of' 'only' 'or' 'order'\n",
            " 'other' 'outbound' 'pages' 'preserve' 'quality' 'received' 'reddit'\n",
            " 'scraping' 'similar' 'specifically' 'such' 'than' 'the' 'this' 'thought'\n",
            " 'to' 'used' 'users' 'we' 'whether' 'which']\n"
          ]
        }
      ]
    },
    {
      "cell_type": "code",
      "metadata": {
        "id": "mcTytc3-kKIm",
        "colab": {
          "base_uri": "https://localhost:8080/"
        },
        "outputId": "636f0f87-48c5-48f2-f546-06bc5bf9f1be"
      },
      "source": [
        "# explore the document-term matrix and understand it's structure\n",
        "print(dtm)"
      ],
      "execution_count": null,
      "outputs": [
        {
          "output_type": "stream",
          "name": "stdout",
          "text": [
            "  (0, 4)\t1\n",
            "  (0, 7)\t2\n",
            "  (0, 8)\t1\n",
            "  (0, 11)\t1\n",
            "  (0, 13)\t1\n",
            "  (0, 16)\t1\n",
            "  (0, 20)\t1\n",
            "  (0, 29)\t1\n",
            "  (0, 35)\t1\n",
            "  (0, 36)\t1\n",
            "  (0, 47)\t1\n",
            "  (0, 52)\t1\n",
            "  (0, 58)\t1\n",
            "  (0, 60)\t1\n",
            "  (1, 1)\t1\n",
            "  (1, 3)\t1\n",
            "  (1, 4)\t1\n",
            "  (1, 9)\t1\n",
            "  (1, 14)\t1\n",
            "  (1, 17)\t1\n",
            "  (1, 20)\t1\n",
            "  (1, 22)\t1\n",
            "  (1, 25)\t1\n",
            "  (1, 26)\t1\n",
            "  (1, 30)\t1\n",
            "  :\t:\n",
            "  (2, 10)\t1\n",
            "  (2, 12)\t1\n",
            "  (2, 15)\t1\n",
            "  (2, 18)\t1\n",
            "  (2, 19)\t1\n",
            "  (2, 21)\t1\n",
            "  (2, 23)\t1\n",
            "  (2, 24)\t1\n",
            "  (2, 27)\t1\n",
            "  (2, 28)\t1\n",
            "  (2, 31)\t1\n",
            "  (2, 33)\t1\n",
            "  (2, 36)\t1\n",
            "  (2, 38)\t1\n",
            "  (2, 40)\t2\n",
            "  (2, 44)\t1\n",
            "  (2, 48)\t1\n",
            "  (2, 50)\t1\n",
            "  (2, 51)\t1\n",
            "  (2, 52)\t1\n",
            "  (2, 53)\t1\n",
            "  (2, 54)\t1\n",
            "  (2, 55)\t1\n",
            "  (2, 57)\t1\n",
            "  (2, 59)\t2\n"
          ]
        }
      ]
    },
    {
      "cell_type": "code",
      "metadata": {
        "id": "99utB63ckHZO"
      },
      "source": [],
      "execution_count": null,
      "outputs": []
    },
    {
      "cell_type": "code",
      "metadata": {
        "id": "xBq6oeR-FhIW",
        "colab": {
          "base_uri": "https://localhost:8080/",
          "height": 190
        },
        "outputId": "4418d5ae-0a52-44d6-db6e-89a016516729"
      },
      "source": [
        "# Get Word Counts for each document and format as a dataframe\n",
        "dtm = pd.DataFrame(dtm.todense(), columns=vect.get_feature_names_out())\n",
        "print(dtm.shape)\n",
        "dtm.head()\n",
        "### END SOLUTION"
      ],
      "execution_count": null,
      "outputs": [
        {
          "output_type": "stream",
          "name": "stdout",
          "text": [
            "(3, 61)\n"
          ]
        },
        {
          "output_type": "execute_result",
          "data": {
            "text/plain": [
              "   as  at  be  been  by  can  commoncrawl  content  created  curated  ...  \\\n",
              "0   0   0   0     0   1    0            0        2        1        0  ...   \n",
              "1   0   1   0     1   1    0            0        0        0        1  ...   \n",
              "2   2   0   1     0   0    1            1        0        0        0  ...   \n",
              "\n",
              "   than  the  this  thought  to  used  users  we  whether  which  \n",
              "0     0    1     0        0   0     0      0   1        0      1  \n",
              "1     0    0     0        0   1     2      0   2        0      2  \n",
              "2     1    1     1        1   1     0      1   0        2      0  \n",
              "\n",
              "[3 rows x 61 columns]"
            ],
            "text/html": [
              "\n",
              "  <div id=\"df-b9a50629-22b0-4e14-a427-04fccde669a6\" class=\"colab-df-container\">\n",
              "    <div>\n",
              "<style scoped>\n",
              "    .dataframe tbody tr th:only-of-type {\n",
              "        vertical-align: middle;\n",
              "    }\n",
              "\n",
              "    .dataframe tbody tr th {\n",
              "        vertical-align: top;\n",
              "    }\n",
              "\n",
              "    .dataframe thead th {\n",
              "        text-align: right;\n",
              "    }\n",
              "</style>\n",
              "<table border=\"1\" class=\"dataframe\">\n",
              "  <thead>\n",
              "    <tr style=\"text-align: right;\">\n",
              "      <th></th>\n",
              "      <th>as</th>\n",
              "      <th>at</th>\n",
              "      <th>be</th>\n",
              "      <th>been</th>\n",
              "      <th>by</th>\n",
              "      <th>can</th>\n",
              "      <th>commoncrawl</th>\n",
              "      <th>content</th>\n",
              "      <th>created</th>\n",
              "      <th>curated</th>\n",
              "      <th>...</th>\n",
              "      <th>than</th>\n",
              "      <th>the</th>\n",
              "      <th>this</th>\n",
              "      <th>thought</th>\n",
              "      <th>to</th>\n",
              "      <th>used</th>\n",
              "      <th>users</th>\n",
              "      <th>we</th>\n",
              "      <th>whether</th>\n",
              "      <th>which</th>\n",
              "    </tr>\n",
              "  </thead>\n",
              "  <tbody>\n",
              "    <tr>\n",
              "      <th>0</th>\n",
              "      <td>0</td>\n",
              "      <td>0</td>\n",
              "      <td>0</td>\n",
              "      <td>0</td>\n",
              "      <td>1</td>\n",
              "      <td>0</td>\n",
              "      <td>0</td>\n",
              "      <td>2</td>\n",
              "      <td>1</td>\n",
              "      <td>0</td>\n",
              "      <td>...</td>\n",
              "      <td>0</td>\n",
              "      <td>1</td>\n",
              "      <td>0</td>\n",
              "      <td>0</td>\n",
              "      <td>0</td>\n",
              "      <td>0</td>\n",
              "      <td>0</td>\n",
              "      <td>1</td>\n",
              "      <td>0</td>\n",
              "      <td>1</td>\n",
              "    </tr>\n",
              "    <tr>\n",
              "      <th>1</th>\n",
              "      <td>0</td>\n",
              "      <td>1</td>\n",
              "      <td>0</td>\n",
              "      <td>1</td>\n",
              "      <td>1</td>\n",
              "      <td>0</td>\n",
              "      <td>0</td>\n",
              "      <td>0</td>\n",
              "      <td>0</td>\n",
              "      <td>1</td>\n",
              "      <td>...</td>\n",
              "      <td>0</td>\n",
              "      <td>0</td>\n",
              "      <td>0</td>\n",
              "      <td>0</td>\n",
              "      <td>1</td>\n",
              "      <td>2</td>\n",
              "      <td>0</td>\n",
              "      <td>2</td>\n",
              "      <td>0</td>\n",
              "      <td>2</td>\n",
              "    </tr>\n",
              "    <tr>\n",
              "      <th>2</th>\n",
              "      <td>2</td>\n",
              "      <td>0</td>\n",
              "      <td>1</td>\n",
              "      <td>0</td>\n",
              "      <td>0</td>\n",
              "      <td>1</td>\n",
              "      <td>1</td>\n",
              "      <td>0</td>\n",
              "      <td>0</td>\n",
              "      <td>0</td>\n",
              "      <td>...</td>\n",
              "      <td>1</td>\n",
              "      <td>1</td>\n",
              "      <td>1</td>\n",
              "      <td>1</td>\n",
              "      <td>1</td>\n",
              "      <td>0</td>\n",
              "      <td>1</td>\n",
              "      <td>0</td>\n",
              "      <td>2</td>\n",
              "      <td>0</td>\n",
              "    </tr>\n",
              "  </tbody>\n",
              "</table>\n",
              "<p>3 rows × 61 columns</p>\n",
              "</div>\n",
              "    <div class=\"colab-df-buttons\">\n",
              "\n",
              "  <div class=\"colab-df-container\">\n",
              "    <button class=\"colab-df-convert\" onclick=\"convertToInteractive('df-b9a50629-22b0-4e14-a427-04fccde669a6')\"\n",
              "            title=\"Convert this dataframe to an interactive table.\"\n",
              "            style=\"display:none;\">\n",
              "\n",
              "  <svg xmlns=\"http://www.w3.org/2000/svg\" height=\"24px\" viewBox=\"0 -960 960 960\">\n",
              "    <path d=\"M120-120v-720h720v720H120Zm60-500h600v-160H180v160Zm220 220h160v-160H400v160Zm0 220h160v-160H400v160ZM180-400h160v-160H180v160Zm440 0h160v-160H620v160ZM180-180h160v-160H180v160Zm440 0h160v-160H620v160Z\"/>\n",
              "  </svg>\n",
              "    </button>\n",
              "\n",
              "  <style>\n",
              "    .colab-df-container {\n",
              "      display:flex;\n",
              "      gap: 12px;\n",
              "    }\n",
              "\n",
              "    .colab-df-convert {\n",
              "      background-color: #E8F0FE;\n",
              "      border: none;\n",
              "      border-radius: 50%;\n",
              "      cursor: pointer;\n",
              "      display: none;\n",
              "      fill: #1967D2;\n",
              "      height: 32px;\n",
              "      padding: 0 0 0 0;\n",
              "      width: 32px;\n",
              "    }\n",
              "\n",
              "    .colab-df-convert:hover {\n",
              "      background-color: #E2EBFA;\n",
              "      box-shadow: 0px 1px 2px rgba(60, 64, 67, 0.3), 0px 1px 3px 1px rgba(60, 64, 67, 0.15);\n",
              "      fill: #174EA6;\n",
              "    }\n",
              "\n",
              "    .colab-df-buttons div {\n",
              "      margin-bottom: 4px;\n",
              "    }\n",
              "\n",
              "    [theme=dark] .colab-df-convert {\n",
              "      background-color: #3B4455;\n",
              "      fill: #D2E3FC;\n",
              "    }\n",
              "\n",
              "    [theme=dark] .colab-df-convert:hover {\n",
              "      background-color: #434B5C;\n",
              "      box-shadow: 0px 1px 3px 1px rgba(0, 0, 0, 0.15);\n",
              "      filter: drop-shadow(0px 1px 2px rgba(0, 0, 0, 0.3));\n",
              "      fill: #FFFFFF;\n",
              "    }\n",
              "  </style>\n",
              "\n",
              "    <script>\n",
              "      const buttonEl =\n",
              "        document.querySelector('#df-b9a50629-22b0-4e14-a427-04fccde669a6 button.colab-df-convert');\n",
              "      buttonEl.style.display =\n",
              "        google.colab.kernel.accessAllowed ? 'block' : 'none';\n",
              "\n",
              "      async function convertToInteractive(key) {\n",
              "        const element = document.querySelector('#df-b9a50629-22b0-4e14-a427-04fccde669a6');\n",
              "        const dataTable =\n",
              "          await google.colab.kernel.invokeFunction('convertToInteractive',\n",
              "                                                    [key], {});\n",
              "        if (!dataTable) return;\n",
              "\n",
              "        const docLinkHtml = 'Like what you see? Visit the ' +\n",
              "          '<a target=\"_blank\" href=https://colab.research.google.com/notebooks/data_table.ipynb>data table notebook</a>'\n",
              "          + ' to learn more about interactive tables.';\n",
              "        element.innerHTML = '';\n",
              "        dataTable['output_type'] = 'display_data';\n",
              "        await google.colab.output.renderOutput(dataTable, element);\n",
              "        const docLink = document.createElement('div');\n",
              "        docLink.innerHTML = docLinkHtml;\n",
              "        element.appendChild(docLink);\n",
              "      }\n",
              "    </script>\n",
              "  </div>\n",
              "\n",
              "\n",
              "<div id=\"df-2aec40bb-c2b0-4d4c-8c16-083ac904cb47\">\n",
              "  <button class=\"colab-df-quickchart\" onclick=\"quickchart('df-2aec40bb-c2b0-4d4c-8c16-083ac904cb47')\"\n",
              "            title=\"Suggest charts\"\n",
              "            style=\"display:none;\">\n",
              "\n",
              "<svg xmlns=\"http://www.w3.org/2000/svg\" height=\"24px\"viewBox=\"0 0 24 24\"\n",
              "     width=\"24px\">\n",
              "    <g>\n",
              "        <path d=\"M19 3H5c-1.1 0-2 .9-2 2v14c0 1.1.9 2 2 2h14c1.1 0 2-.9 2-2V5c0-1.1-.9-2-2-2zM9 17H7v-7h2v7zm4 0h-2V7h2v10zm4 0h-2v-4h2v4z\"/>\n",
              "    </g>\n",
              "</svg>\n",
              "  </button>\n",
              "\n",
              "<style>\n",
              "  .colab-df-quickchart {\n",
              "      --bg-color: #E8F0FE;\n",
              "      --fill-color: #1967D2;\n",
              "      --hover-bg-color: #E2EBFA;\n",
              "      --hover-fill-color: #174EA6;\n",
              "      --disabled-fill-color: #AAA;\n",
              "      --disabled-bg-color: #DDD;\n",
              "  }\n",
              "\n",
              "  [theme=dark] .colab-df-quickchart {\n",
              "      --bg-color: #3B4455;\n",
              "      --fill-color: #D2E3FC;\n",
              "      --hover-bg-color: #434B5C;\n",
              "      --hover-fill-color: #FFFFFF;\n",
              "      --disabled-bg-color: #3B4455;\n",
              "      --disabled-fill-color: #666;\n",
              "  }\n",
              "\n",
              "  .colab-df-quickchart {\n",
              "    background-color: var(--bg-color);\n",
              "    border: none;\n",
              "    border-radius: 50%;\n",
              "    cursor: pointer;\n",
              "    display: none;\n",
              "    fill: var(--fill-color);\n",
              "    height: 32px;\n",
              "    padding: 0;\n",
              "    width: 32px;\n",
              "  }\n",
              "\n",
              "  .colab-df-quickchart:hover {\n",
              "    background-color: var(--hover-bg-color);\n",
              "    box-shadow: 0 1px 2px rgba(60, 64, 67, 0.3), 0 1px 3px 1px rgba(60, 64, 67, 0.15);\n",
              "    fill: var(--button-hover-fill-color);\n",
              "  }\n",
              "\n",
              "  .colab-df-quickchart-complete:disabled,\n",
              "  .colab-df-quickchart-complete:disabled:hover {\n",
              "    background-color: var(--disabled-bg-color);\n",
              "    fill: var(--disabled-fill-color);\n",
              "    box-shadow: none;\n",
              "  }\n",
              "\n",
              "  .colab-df-spinner {\n",
              "    border: 2px solid var(--fill-color);\n",
              "    border-color: transparent;\n",
              "    border-bottom-color: var(--fill-color);\n",
              "    animation:\n",
              "      spin 1s steps(1) infinite;\n",
              "  }\n",
              "\n",
              "  @keyframes spin {\n",
              "    0% {\n",
              "      border-color: transparent;\n",
              "      border-bottom-color: var(--fill-color);\n",
              "      border-left-color: var(--fill-color);\n",
              "    }\n",
              "    20% {\n",
              "      border-color: transparent;\n",
              "      border-left-color: var(--fill-color);\n",
              "      border-top-color: var(--fill-color);\n",
              "    }\n",
              "    30% {\n",
              "      border-color: transparent;\n",
              "      border-left-color: var(--fill-color);\n",
              "      border-top-color: var(--fill-color);\n",
              "      border-right-color: var(--fill-color);\n",
              "    }\n",
              "    40% {\n",
              "      border-color: transparent;\n",
              "      border-right-color: var(--fill-color);\n",
              "      border-top-color: var(--fill-color);\n",
              "    }\n",
              "    60% {\n",
              "      border-color: transparent;\n",
              "      border-right-color: var(--fill-color);\n",
              "    }\n",
              "    80% {\n",
              "      border-color: transparent;\n",
              "      border-right-color: var(--fill-color);\n",
              "      border-bottom-color: var(--fill-color);\n",
              "    }\n",
              "    90% {\n",
              "      border-color: transparent;\n",
              "      border-bottom-color: var(--fill-color);\n",
              "    }\n",
              "  }\n",
              "</style>\n",
              "\n",
              "  <script>\n",
              "    async function quickchart(key) {\n",
              "      const quickchartButtonEl =\n",
              "        document.querySelector('#' + key + ' button');\n",
              "      quickchartButtonEl.disabled = true;  // To prevent multiple clicks.\n",
              "      quickchartButtonEl.classList.add('colab-df-spinner');\n",
              "      try {\n",
              "        const charts = await google.colab.kernel.invokeFunction(\n",
              "            'suggestCharts', [key], {});\n",
              "      } catch (error) {\n",
              "        console.error('Error during call to suggestCharts:', error);\n",
              "      }\n",
              "      quickchartButtonEl.classList.remove('colab-df-spinner');\n",
              "      quickchartButtonEl.classList.add('colab-df-quickchart-complete');\n",
              "    }\n",
              "    (() => {\n",
              "      let quickchartButtonEl =\n",
              "        document.querySelector('#df-2aec40bb-c2b0-4d4c-8c16-083ac904cb47 button');\n",
              "      quickchartButtonEl.style.display =\n",
              "        google.colab.kernel.accessAllowed ? 'block' : 'none';\n",
              "    })();\n",
              "  </script>\n",
              "</div>\n",
              "\n",
              "    </div>\n",
              "  </div>\n"
            ]
          },
          "metadata": {},
          "execution_count": 12
        }
      ]
    },
    {
      "cell_type": "code",
      "metadata": {
        "id": "dg3lw6qok5wR"
      },
      "source": [],
      "execution_count": null,
      "outputs": []
    },
    {
      "cell_type": "markdown",
      "metadata": {
        "id": "DJWsLvkXdRAL"
      },
      "source": [
        "**Three Minute Challenge:**\n",
        "* Apply CountVectorizer to our BBC Data\n",
        "* Store results in a dataframe called `dtm`\n",
        "* Extra Challenge - Try to Customize CountVectorizer with Spacy Processing"
      ]
    },
    {
      "cell_type": "code",
      "metadata": {
        "nbgrader": {
          "grade": false,
          "grade_id": "cell-3a7cd500efe1978b",
          "locked": false,
          "schema_version": 3,
          "solution": true,
          "task": false
        },
        "id": "0LQrT4qydRAL",
        "colab": {
          "base_uri": "https://localhost:8080/",
          "height": 253
        },
        "outputId": "2097950f-1d78-4fa0-b2ea-404e7a049401"
      },
      "source": [
        "# Apply CountVectorizer to our Data\n",
        "# Use custom Spacy Vectorizer\n",
        "# BBC articles in `data` variable\n",
        "\n",
        "from sklearn.feature_extraction.text import CountVectorizer\n",
        "\n",
        "# Learn our Vocab\n",
        "# Get sparse dtm (i.e. transform the data)\n",
        "\n",
        "### BEGIN SOLUTION\n",
        "vect = CountVectorizer()\n",
        "\n",
        "# Learn our Vocab\n",
        "vect.fit(data)\n",
        "\n",
        "# Transform the BBC news articles\n",
        "dtm = vect.transform(data)\n",
        "dtm = pd.DataFrame(dtm.todense(), columns=vect.get_feature_names_out())\n",
        "print(dtm.shape)\n",
        "dtm.head()"
      ],
      "execution_count": null,
      "outputs": [
        {
          "output_type": "stream",
          "name": "stdout",
          "text": [
            "(401, 12098)\n"
          ]
        },
        {
          "output_type": "execute_result",
          "data": {
            "text/plain": [
              "   00  000  000s  0051  007  01  028  04m  05  0530  ...  zip  zodiac  zombie  \\\n",
              "0   0    0     0     0    0   0    0    0   0     0  ...    0       0       0   \n",
              "1   0    0     0     0    0   0    0    0   0     0  ...    0       0       0   \n",
              "2   0    1     0     0    0   0    0    0   0     0  ...    0       0       0   \n",
              "3   0    0     0     0    0   0    0    0   0     0  ...    0       0       0   \n",
              "4   0    0     0     0    0   0    0    0   0     0  ...    0       0       0   \n",
              "\n",
              "   zombies  zone  zonealarm  zones  zoom  zooms  zurich  \n",
              "0        0     0          0      0     0      0       0  \n",
              "1        0     0          0      0     0      0       0  \n",
              "2        0     0          0      0     0      0       0  \n",
              "3        0     0          0      0     0      0       0  \n",
              "4        0     0          0      0     0      0       0  \n",
              "\n",
              "[5 rows x 12098 columns]"
            ],
            "text/html": [
              "\n",
              "  <div id=\"df-a51de0d4-1dbe-4512-be8b-565e329230a1\" class=\"colab-df-container\">\n",
              "    <div>\n",
              "<style scoped>\n",
              "    .dataframe tbody tr th:only-of-type {\n",
              "        vertical-align: middle;\n",
              "    }\n",
              "\n",
              "    .dataframe tbody tr th {\n",
              "        vertical-align: top;\n",
              "    }\n",
              "\n",
              "    .dataframe thead th {\n",
              "        text-align: right;\n",
              "    }\n",
              "</style>\n",
              "<table border=\"1\" class=\"dataframe\">\n",
              "  <thead>\n",
              "    <tr style=\"text-align: right;\">\n",
              "      <th></th>\n",
              "      <th>00</th>\n",
              "      <th>000</th>\n",
              "      <th>000s</th>\n",
              "      <th>0051</th>\n",
              "      <th>007</th>\n",
              "      <th>01</th>\n",
              "      <th>028</th>\n",
              "      <th>04m</th>\n",
              "      <th>05</th>\n",
              "      <th>0530</th>\n",
              "      <th>...</th>\n",
              "      <th>zip</th>\n",
              "      <th>zodiac</th>\n",
              "      <th>zombie</th>\n",
              "      <th>zombies</th>\n",
              "      <th>zone</th>\n",
              "      <th>zonealarm</th>\n",
              "      <th>zones</th>\n",
              "      <th>zoom</th>\n",
              "      <th>zooms</th>\n",
              "      <th>zurich</th>\n",
              "    </tr>\n",
              "  </thead>\n",
              "  <tbody>\n",
              "    <tr>\n",
              "      <th>0</th>\n",
              "      <td>0</td>\n",
              "      <td>0</td>\n",
              "      <td>0</td>\n",
              "      <td>0</td>\n",
              "      <td>0</td>\n",
              "      <td>0</td>\n",
              "      <td>0</td>\n",
              "      <td>0</td>\n",
              "      <td>0</td>\n",
              "      <td>0</td>\n",
              "      <td>...</td>\n",
              "      <td>0</td>\n",
              "      <td>0</td>\n",
              "      <td>0</td>\n",
              "      <td>0</td>\n",
              "      <td>0</td>\n",
              "      <td>0</td>\n",
              "      <td>0</td>\n",
              "      <td>0</td>\n",
              "      <td>0</td>\n",
              "      <td>0</td>\n",
              "    </tr>\n",
              "    <tr>\n",
              "      <th>1</th>\n",
              "      <td>0</td>\n",
              "      <td>0</td>\n",
              "      <td>0</td>\n",
              "      <td>0</td>\n",
              "      <td>0</td>\n",
              "      <td>0</td>\n",
              "      <td>0</td>\n",
              "      <td>0</td>\n",
              "      <td>0</td>\n",
              "      <td>0</td>\n",
              "      <td>...</td>\n",
              "      <td>0</td>\n",
              "      <td>0</td>\n",
              "      <td>0</td>\n",
              "      <td>0</td>\n",
              "      <td>0</td>\n",
              "      <td>0</td>\n",
              "      <td>0</td>\n",
              "      <td>0</td>\n",
              "      <td>0</td>\n",
              "      <td>0</td>\n",
              "    </tr>\n",
              "    <tr>\n",
              "      <th>2</th>\n",
              "      <td>0</td>\n",
              "      <td>1</td>\n",
              "      <td>0</td>\n",
              "      <td>0</td>\n",
              "      <td>0</td>\n",
              "      <td>0</td>\n",
              "      <td>0</td>\n",
              "      <td>0</td>\n",
              "      <td>0</td>\n",
              "      <td>0</td>\n",
              "      <td>...</td>\n",
              "      <td>0</td>\n",
              "      <td>0</td>\n",
              "      <td>0</td>\n",
              "      <td>0</td>\n",
              "      <td>0</td>\n",
              "      <td>0</td>\n",
              "      <td>0</td>\n",
              "      <td>0</td>\n",
              "      <td>0</td>\n",
              "      <td>0</td>\n",
              "    </tr>\n",
              "    <tr>\n",
              "      <th>3</th>\n",
              "      <td>0</td>\n",
              "      <td>0</td>\n",
              "      <td>0</td>\n",
              "      <td>0</td>\n",
              "      <td>0</td>\n",
              "      <td>0</td>\n",
              "      <td>0</td>\n",
              "      <td>0</td>\n",
              "      <td>0</td>\n",
              "      <td>0</td>\n",
              "      <td>...</td>\n",
              "      <td>0</td>\n",
              "      <td>0</td>\n",
              "      <td>0</td>\n",
              "      <td>0</td>\n",
              "      <td>0</td>\n",
              "      <td>0</td>\n",
              "      <td>0</td>\n",
              "      <td>0</td>\n",
              "      <td>0</td>\n",
              "      <td>0</td>\n",
              "    </tr>\n",
              "    <tr>\n",
              "      <th>4</th>\n",
              "      <td>0</td>\n",
              "      <td>0</td>\n",
              "      <td>0</td>\n",
              "      <td>0</td>\n",
              "      <td>0</td>\n",
              "      <td>0</td>\n",
              "      <td>0</td>\n",
              "      <td>0</td>\n",
              "      <td>0</td>\n",
              "      <td>0</td>\n",
              "      <td>...</td>\n",
              "      <td>0</td>\n",
              "      <td>0</td>\n",
              "      <td>0</td>\n",
              "      <td>0</td>\n",
              "      <td>0</td>\n",
              "      <td>0</td>\n",
              "      <td>0</td>\n",
              "      <td>0</td>\n",
              "      <td>0</td>\n",
              "      <td>0</td>\n",
              "    </tr>\n",
              "  </tbody>\n",
              "</table>\n",
              "<p>5 rows × 12098 columns</p>\n",
              "</div>\n",
              "    <div class=\"colab-df-buttons\">\n",
              "\n",
              "  <div class=\"colab-df-container\">\n",
              "    <button class=\"colab-df-convert\" onclick=\"convertToInteractive('df-a51de0d4-1dbe-4512-be8b-565e329230a1')\"\n",
              "            title=\"Convert this dataframe to an interactive table.\"\n",
              "            style=\"display:none;\">\n",
              "\n",
              "  <svg xmlns=\"http://www.w3.org/2000/svg\" height=\"24px\" viewBox=\"0 -960 960 960\">\n",
              "    <path d=\"M120-120v-720h720v720H120Zm60-500h600v-160H180v160Zm220 220h160v-160H400v160Zm0 220h160v-160H400v160ZM180-400h160v-160H180v160Zm440 0h160v-160H620v160ZM180-180h160v-160H180v160Zm440 0h160v-160H620v160Z\"/>\n",
              "  </svg>\n",
              "    </button>\n",
              "\n",
              "  <style>\n",
              "    .colab-df-container {\n",
              "      display:flex;\n",
              "      gap: 12px;\n",
              "    }\n",
              "\n",
              "    .colab-df-convert {\n",
              "      background-color: #E8F0FE;\n",
              "      border: none;\n",
              "      border-radius: 50%;\n",
              "      cursor: pointer;\n",
              "      display: none;\n",
              "      fill: #1967D2;\n",
              "      height: 32px;\n",
              "      padding: 0 0 0 0;\n",
              "      width: 32px;\n",
              "    }\n",
              "\n",
              "    .colab-df-convert:hover {\n",
              "      background-color: #E2EBFA;\n",
              "      box-shadow: 0px 1px 2px rgba(60, 64, 67, 0.3), 0px 1px 3px 1px rgba(60, 64, 67, 0.15);\n",
              "      fill: #174EA6;\n",
              "    }\n",
              "\n",
              "    .colab-df-buttons div {\n",
              "      margin-bottom: 4px;\n",
              "    }\n",
              "\n",
              "    [theme=dark] .colab-df-convert {\n",
              "      background-color: #3B4455;\n",
              "      fill: #D2E3FC;\n",
              "    }\n",
              "\n",
              "    [theme=dark] .colab-df-convert:hover {\n",
              "      background-color: #434B5C;\n",
              "      box-shadow: 0px 1px 3px 1px rgba(0, 0, 0, 0.15);\n",
              "      filter: drop-shadow(0px 1px 2px rgba(0, 0, 0, 0.3));\n",
              "      fill: #FFFFFF;\n",
              "    }\n",
              "  </style>\n",
              "\n",
              "    <script>\n",
              "      const buttonEl =\n",
              "        document.querySelector('#df-a51de0d4-1dbe-4512-be8b-565e329230a1 button.colab-df-convert');\n",
              "      buttonEl.style.display =\n",
              "        google.colab.kernel.accessAllowed ? 'block' : 'none';\n",
              "\n",
              "      async function convertToInteractive(key) {\n",
              "        const element = document.querySelector('#df-a51de0d4-1dbe-4512-be8b-565e329230a1');\n",
              "        const dataTable =\n",
              "          await google.colab.kernel.invokeFunction('convertToInteractive',\n",
              "                                                    [key], {});\n",
              "        if (!dataTable) return;\n",
              "\n",
              "        const docLinkHtml = 'Like what you see? Visit the ' +\n",
              "          '<a target=\"_blank\" href=https://colab.research.google.com/notebooks/data_table.ipynb>data table notebook</a>'\n",
              "          + ' to learn more about interactive tables.';\n",
              "        element.innerHTML = '';\n",
              "        dataTable['output_type'] = 'display_data';\n",
              "        await google.colab.output.renderOutput(dataTable, element);\n",
              "        const docLink = document.createElement('div');\n",
              "        docLink.innerHTML = docLinkHtml;\n",
              "        element.appendChild(docLink);\n",
              "      }\n",
              "    </script>\n",
              "  </div>\n",
              "\n",
              "\n",
              "<div id=\"df-e8cd771e-52c8-488b-b451-373b52a61389\">\n",
              "  <button class=\"colab-df-quickchart\" onclick=\"quickchart('df-e8cd771e-52c8-488b-b451-373b52a61389')\"\n",
              "            title=\"Suggest charts\"\n",
              "            style=\"display:none;\">\n",
              "\n",
              "<svg xmlns=\"http://www.w3.org/2000/svg\" height=\"24px\"viewBox=\"0 0 24 24\"\n",
              "     width=\"24px\">\n",
              "    <g>\n",
              "        <path d=\"M19 3H5c-1.1 0-2 .9-2 2v14c0 1.1.9 2 2 2h14c1.1 0 2-.9 2-2V5c0-1.1-.9-2-2-2zM9 17H7v-7h2v7zm4 0h-2V7h2v10zm4 0h-2v-4h2v4z\"/>\n",
              "    </g>\n",
              "</svg>\n",
              "  </button>\n",
              "\n",
              "<style>\n",
              "  .colab-df-quickchart {\n",
              "      --bg-color: #E8F0FE;\n",
              "      --fill-color: #1967D2;\n",
              "      --hover-bg-color: #E2EBFA;\n",
              "      --hover-fill-color: #174EA6;\n",
              "      --disabled-fill-color: #AAA;\n",
              "      --disabled-bg-color: #DDD;\n",
              "  }\n",
              "\n",
              "  [theme=dark] .colab-df-quickchart {\n",
              "      --bg-color: #3B4455;\n",
              "      --fill-color: #D2E3FC;\n",
              "      --hover-bg-color: #434B5C;\n",
              "      --hover-fill-color: #FFFFFF;\n",
              "      --disabled-bg-color: #3B4455;\n",
              "      --disabled-fill-color: #666;\n",
              "  }\n",
              "\n",
              "  .colab-df-quickchart {\n",
              "    background-color: var(--bg-color);\n",
              "    border: none;\n",
              "    border-radius: 50%;\n",
              "    cursor: pointer;\n",
              "    display: none;\n",
              "    fill: var(--fill-color);\n",
              "    height: 32px;\n",
              "    padding: 0;\n",
              "    width: 32px;\n",
              "  }\n",
              "\n",
              "  .colab-df-quickchart:hover {\n",
              "    background-color: var(--hover-bg-color);\n",
              "    box-shadow: 0 1px 2px rgba(60, 64, 67, 0.3), 0 1px 3px 1px rgba(60, 64, 67, 0.15);\n",
              "    fill: var(--button-hover-fill-color);\n",
              "  }\n",
              "\n",
              "  .colab-df-quickchart-complete:disabled,\n",
              "  .colab-df-quickchart-complete:disabled:hover {\n",
              "    background-color: var(--disabled-bg-color);\n",
              "    fill: var(--disabled-fill-color);\n",
              "    box-shadow: none;\n",
              "  }\n",
              "\n",
              "  .colab-df-spinner {\n",
              "    border: 2px solid var(--fill-color);\n",
              "    border-color: transparent;\n",
              "    border-bottom-color: var(--fill-color);\n",
              "    animation:\n",
              "      spin 1s steps(1) infinite;\n",
              "  }\n",
              "\n",
              "  @keyframes spin {\n",
              "    0% {\n",
              "      border-color: transparent;\n",
              "      border-bottom-color: var(--fill-color);\n",
              "      border-left-color: var(--fill-color);\n",
              "    }\n",
              "    20% {\n",
              "      border-color: transparent;\n",
              "      border-left-color: var(--fill-color);\n",
              "      border-top-color: var(--fill-color);\n",
              "    }\n",
              "    30% {\n",
              "      border-color: transparent;\n",
              "      border-left-color: var(--fill-color);\n",
              "      border-top-color: var(--fill-color);\n",
              "      border-right-color: var(--fill-color);\n",
              "    }\n",
              "    40% {\n",
              "      border-color: transparent;\n",
              "      border-right-color: var(--fill-color);\n",
              "      border-top-color: var(--fill-color);\n",
              "    }\n",
              "    60% {\n",
              "      border-color: transparent;\n",
              "      border-right-color: var(--fill-color);\n",
              "    }\n",
              "    80% {\n",
              "      border-color: transparent;\n",
              "      border-right-color: var(--fill-color);\n",
              "      border-bottom-color: var(--fill-color);\n",
              "    }\n",
              "    90% {\n",
              "      border-color: transparent;\n",
              "      border-bottom-color: var(--fill-color);\n",
              "    }\n",
              "  }\n",
              "</style>\n",
              "\n",
              "  <script>\n",
              "    async function quickchart(key) {\n",
              "      const quickchartButtonEl =\n",
              "        document.querySelector('#' + key + ' button');\n",
              "      quickchartButtonEl.disabled = true;  // To prevent multiple clicks.\n",
              "      quickchartButtonEl.classList.add('colab-df-spinner');\n",
              "      try {\n",
              "        const charts = await google.colab.kernel.invokeFunction(\n",
              "            'suggestCharts', [key], {});\n",
              "      } catch (error) {\n",
              "        console.error('Error during call to suggestCharts:', error);\n",
              "      }\n",
              "      quickchartButtonEl.classList.remove('colab-df-spinner');\n",
              "      quickchartButtonEl.classList.add('colab-df-quickchart-complete');\n",
              "    }\n",
              "    (() => {\n",
              "      let quickchartButtonEl =\n",
              "        document.querySelector('#df-e8cd771e-52c8-488b-b451-373b52a61389 button');\n",
              "      quickchartButtonEl.style.display =\n",
              "        google.colab.kernel.accessAllowed ? 'block' : 'none';\n",
              "    })();\n",
              "  </script>\n",
              "</div>\n",
              "\n",
              "    </div>\n",
              "  </div>\n"
            ]
          },
          "metadata": {},
          "execution_count": 13
        }
      ]
    },
    {
      "cell_type": "code",
      "metadata": {
        "id": "G6JBj-YUdRAM",
        "colab": {
          "base_uri": "https://localhost:8080/",
          "height": 625
        },
        "outputId": "b6debb2d-840c-4016-d6af-874cc22b4b9a"
      },
      "source": [
        "import seaborn as sns\n",
        "sns.set()\n",
        "\n",
        "doc_len = [len(doc.split()) for doc in data]\n",
        "sns.distplot(doc_len);"
      ],
      "execution_count": null,
      "outputs": [
        {
          "output_type": "stream",
          "name": "stderr",
          "text": [
            "<ipython-input-14-2587e7df1d19>:5: UserWarning: \n",
            "\n",
            "`distplot` is a deprecated function and will be removed in seaborn v0.14.0.\n",
            "\n",
            "Please adapt your code to use either `displot` (a figure-level function with\n",
            "similar flexibility) or `histplot` (an axes-level function for histograms).\n",
            "\n",
            "For a guide to updating your code to use the new functions, please see\n",
            "https://gist.github.com/mwaskom/de44147ed2974457ad6372750bbe5751\n",
            "\n",
            "  sns.distplot(doc_len);\n"
          ]
        },
        {
          "output_type": "display_data",
          "data": {
            "text/plain": [
              "<Figure size 640x480 with 1 Axes>"
            ],
            "image/png": "[encoded data removed]"
          },
          "metadata": {}
        }
      ]
    },
    {
      "cell_type": "markdown",
      "metadata": {
        "id": "SYgUj_WcdRAN"
      },
      "source": [
        "#1.2  `TfidfVectorizer`\n",
        "\n",
        "## Term Frequency - Inverse Document Frequency (TF-IDF)\n",
        "\n",
        "![](https://miro.medium.com/max/1404/1*mu6G-cBmWlENS4pWHEnGcg@2x.jpeg)\n",
        "\n",
        "\n",
        "**Term Frequency**: $\\text{tf}_{i,j}$  is the number of times term $i$ appeared in document $j$\n",
        "\n",
        "**Inverse Document Frequency:** A weight penalty for terms that exist in a high fraction of documents.\n",
        "\n",
        "The purpose of TF-IDF is to find what is **unique** to each document. Because of this we will penalize the term frequencies of words that are common across all documents. This effectively upweights terms that are rarer across documents.\n"
      ]
    },
    {
      "cell_type": "markdown",
      "metadata": {
        "id": "yfzMqqbrdRAN"
      },
      "source": [
        "#1.2  `TfidfVectorizer`\n",
        "\n",
        "## Term Frequency - Inverse Document Frequency (TF-IDF)\n",
        "\n",
        "![](https://miro.medium.com/max/1404/1*mu6G-cBmWlENS4pWHEnGcg@2x.jpeg)\n",
        "\n",
        "\n",
        "**Term Frequency**: $\\text{tf}_{i,j}$  is the number of times term $i$ appeared in document $j$\n",
        "\n",
        "**Inverse Document Frequency:** A weight penalty for terms that exist in a high fraction of documents.\n",
        "\n",
        "The purpose of TF-IDF is to find what is **unique** to each document. Because of this we will penalize the term frequencies of words that are common across all documents. This effectively upweights terms that are rarer across documents.\n",
        "\n",
        "<img src=\"https://upload.wikimedia.org/wikipedia/commons/8/81/Logarithm_plots.png\" width=\"700\" height=\"400\" />\n",
        "\n",
        "It's useful to reference both the algebraic and geometric representations of a single mathematical ideal whenever possible in order to build the fullest understanding possible."
      ]
    },
    {
      "cell_type": "markdown",
      "metadata": {
        "id": "1uysxF1NdRAN"
      },
      "source": [
        "The IDF portion of the TF-IDF equation has been coded up below so that we can play around with the values and get a better understanding of how this portion of the equation works.\n",
        "\n",
        "NOTE: There are other ways to construct the equation for the IDF term; different constructions of the equation serve different purposes and which you ultimately use simply depends on your problem/task. You can check out the [wikipedia article on tfidf](https://en.wikipedia.org/wiki/Tf%E2%80%93idf)\n",
        "\n",
        "In practice, you usually don't even have to think about the mathematical formulation of the IDF term. You simply import the tfidf vectorizer and use its api. The rare exception to this would if you are working a very particular kind of problem where the open source implementation of tfidf doesn't suit your needs and so then you might consider creating your own equation or using a different one that you read about."
      ]
    },
    {
      "cell_type": "code",
      "metadata": {
        "id": "Sk_AVqh3dRAN"
      },
      "source": [
        "# inverse document frequency score\n",
        "# the plus ones are constants that shift the around the baseline value\n",
        "def idf(n, df):\n",
        "    \"\"\"\n",
        "    Parameters\n",
        "    ----------\n",
        "    n: int\n",
        "        num of docs in corpus\n",
        "\n",
        "    df: int\n",
        "        num of docs that term t (i.e. a token) appears in\n",
        "\n",
        "    Returns\n",
        "    -------\n",
        "    inverse docuemnt frequency: float\n",
        "    \"\"\"\n",
        "    return np.log( n/ df)"
      ],
      "execution_count": null,
      "outputs": []
    },
    {
      "cell_type": "code",
      "metadata": {
        "nbgrader": {
          "grade": false,
          "grade_id": "cell-4e40eb25d7faed91",
          "locked": false,
          "schema_version": 3,
          "solution": true,
          "task": false
        },
        "id": "1uh6Ab7FdRAO"
      },
      "source": [
        "n = 100                 # num of docs in corpus\n",
        "df_range = 100\n",
        "IDF = []\n",
        "DF = []\n",
        "for df in range(1, df_range + 1):\n",
        "    idf_score = idf(n, df)\n",
        "    IDF.append(idf_score)\n",
        "    DF.append(df)"
      ],
      "execution_count": null,
      "outputs": []
    },
    {
      "cell_type": "code",
      "metadata": {
        "id": "qVAUfwlddRAO",
        "colab": {
          "base_uri": "https://localhost:8080/",
          "height": 943
        },
        "outputId": "14588fdc-16e6-4139-d7ac-e97b86039b2d"
      },
      "source": [
        "plt.figure()\n",
        "plt.title(\"Inverse Document Frequency Score vs. Document Frequency of Token\")\n",
        "plt.ylabel(\"Inverse Document Frequency Score\")\n",
        "plt.xlabel(\"Document Frequency of Token\")\n",
        "plt.grid()\n",
        "plt.plot(DF, IDF);\n",
        "plt.show()\n",
        "\n",
        "plt.figure()\n",
        "plt.title(\"Inverse Document Frequency Score vs. Document Frequency of Token\")\n",
        "plt.ylabel(\"Inverse Document Frequency Score\")\n",
        "plt.xlabel(\"Document Frequency of Token\")\n",
        "plt.xlim(90,100)\n",
        "plt.ylim(0,0.10)\n",
        "plt.grid()\n",
        "plt.plot(DF, IDF);\n",
        "plt.show()"
      ],
      "execution_count": null,
      "outputs": [
        {
          "output_type": "display_data",
          "data": {
            "text/plain": [
              "<Figure size 640x480 with 1 Axes>"
            ],
            "image/png": "[encoded data removed]"
          },
          "metadata": {}
        },
        {
          "output_type": "display_data",
          "data": {
            "text/plain": [
              "<Figure size 640x480 with 1 Axes>"
            ],
            "image/png": "[encoded data removed]"
          },
          "metadata": {}
        }
      ]
    },
    {
      "cell_type": "code",
      "metadata": {
        "nbgrader": {
          "grade": false,
          "grade_id": "cell-bed0fb42b084357d",
          "locked": false,
          "schema_version": 3,
          "solution": true,
          "task": false
        },
        "id": "G7dv3fH2dRAO",
        "colab": {
          "base_uri": "https://localhost:8080/"
        },
        "outputId": "778cf60f-7d45-4b34-f2a2-0200d055e792"
      },
      "source": [
        "# let's work through a couple of examples to help build intuition\n",
        "# imagine the token we are considering is \"purchase\", which rarely appears\n",
        "# imagine the token that we are considering is \"the\", which appears often\n",
        "\n",
        "n = 100\n",
        "\n",
        "# imagine the token we are considering is \"purchase\"\n",
        "tf = 1\n",
        "df = 20\n",
        "\n",
        "tfidf_score = tf * idf(n, df)\n",
        "print(f'purchase: {tfidf_score:.2f}')\n",
        "\n",
        "# imagine the token that we are considering is \"the\"\n",
        "tf = 50\n",
        "df = 95\n",
        "\n",
        "tfidf_score = tf * idf(n, df)\n",
        "print(f'the: {tfidf_score:.2f}')"
      ],
      "execution_count": null,
      "outputs": [
        {
          "output_type": "stream",
          "name": "stdout",
          "text": [
            "purchase: 1.61\n",
            "the: 2.56\n"
          ]
        }
      ]
    },
    {
      "cell_type": "markdown",
      "metadata": {
        "id": "SQbFzVXAdRAP"
      },
      "source": [
        "Now that we have built some intuition on how TFIDF works, let's use `sklearn`'s `TfidfVectorizer` to vectorize our dataset. <br>\n",
        "Note that `TfidfVectorizer` is used with the same syntax as `CountVectorizer`"
      ]
    },
    {
      "cell_type": "code",
      "metadata": {
        "nbgrader": {
          "grade": false,
          "grade_id": "cell-4ccfa3ef2d0404fc",
          "locked": false,
          "schema_version": 3,
          "solution": true,
          "task": false
        },
        "id": "Lm6FsqHOdRAP",
        "colab": {
          "base_uri": "https://localhost:8080/",
          "height": 253
        },
        "outputId": "6ec4b647-476b-4d07-bc71-d5f6c263f6d8"
      },
      "source": [
        "from sklearn.feature_extraction.text import TfidfVectorizer\n",
        "\n",
        "# 1. Instantiate vectorizer object\n",
        "tfidf = TfidfVectorizer(stop_words='english', max_features=1000)\n",
        "\n",
        "# 2. Create a vocabulary and get word counts per document\n",
        "dtm = tfidf.fit_transform(data)\n",
        "\n",
        "# 3. View term-document matrix as DataFrame\n",
        "dtm = pd.DataFrame(dtm.todense(), columns=tfidf.get_feature_names_out())\n",
        "print(dtm.shape)\n",
        "dtm.head()"
      ],
      "execution_count": null,
      "outputs": [
        {
          "output_type": "stream",
          "name": "stdout",
          "text": [
            "(401, 1000)\n"
          ]
        },
        {
          "output_type": "execute_result",
          "data": {
            "text/plain": [
              "        000        10       100   11        12   14        15   18   20  \\\n",
              "0  0.000000  0.000000  0.000000  0.0  0.000000  0.0  0.000000  0.0  0.0   \n",
              "1  0.000000  0.060481  0.000000  0.0  0.077384  0.0  0.000000  0.0  0.0   \n",
              "2  0.057872  0.000000  0.083609  0.0  0.000000  0.0  0.087024  0.0  0.0   \n",
              "3  0.000000  0.000000  0.000000  0.0  0.020073  0.0  0.000000  0.0  0.0   \n",
              "4  0.000000  0.000000  0.000000  0.0  0.000000  0.0  0.000000  0.0  0.0   \n",
              "\n",
              "       200  ...  worldwide  worm  worth  writing      xbox   xp  yahoo  \\\n",
              "0  0.00000  ...        0.0   0.0    0.0      0.0  0.000000  0.0    0.0   \n",
              "1  0.00000  ...        0.0   0.0    0.0      0.0  0.085205  0.0    0.0   \n",
              "2  0.00000  ...        0.0   0.0    0.0      0.0  0.000000  0.0    0.0   \n",
              "3  0.02248  ...        0.0   0.0    0.0      0.0  0.000000  0.0    0.0   \n",
              "4  0.00000  ...        0.0   0.0    0.0      0.0  0.000000  0.0    0.0   \n",
              "\n",
              "       year     years  york  \n",
              "0  0.000000  0.000000   0.0  \n",
              "1  0.086117  0.000000   0.0  \n",
              "2  0.094884  0.185714   0.0  \n",
              "3  0.022339  0.000000   0.0  \n",
              "4  0.000000  0.000000   0.0  \n",
              "\n",
              "[5 rows x 1000 columns]"
            ],
            "text/html": [
              "\n",
              "  <div id=\"df-d6b6c4ab-3493-4a3b-8cc3-f7f3cb181e51\" class=\"colab-df-container\">\n",
              "    <div>\n",
              "<style scoped>\n",
              "    .dataframe tbody tr th:only-of-type {\n",
              "        vertical-align: middle;\n",
              "    }\n",
              "\n",
              "    .dataframe tbody tr th {\n",
              "        vertical-align: top;\n",
              "    }\n",
              "\n",
              "    .dataframe thead th {\n",
              "        text-align: right;\n",
              "    }\n",
              "</style>\n",
              "<table border=\"1\" class=\"dataframe\">\n",
              "  <thead>\n",
              "    <tr style=\"text-align: right;\">\n",
              "      <th></th>\n",
              "      <th>000</th>\n",
              "      <th>10</th>\n",
              "      <th>100</th>\n",
              "      <th>11</th>\n",
              "      <th>12</th>\n",
              "      <th>14</th>\n",
              "      <th>15</th>\n",
              "      <th>18</th>\n",
              "      <th>20</th>\n",
              "      <th>200</th>\n",
              "      <th>...</th>\n",
              "      <th>worldwide</th>\n",
              "      <th>worm</th>\n",
              "      <th>worth</th>\n",
              "      <th>writing</th>\n",
              "      <th>xbox</th>\n",
              "      <th>xp</th>\n",
              "      <th>yahoo</th>\n",
              "      <th>year</th>\n",
              "      <th>years</th>\n",
              "      <th>york</th>\n",
              "    </tr>\n",
              "  </thead>\n",
              "  <tbody>\n",
              "    <tr>\n",
              "      <th>0</th>\n",
              "      <td>0.000000</td>\n",
              "      <td>0.000000</td>\n",
              "      <td>0.000000</td>\n",
              "      <td>0.0</td>\n",
              "      <td>0.000000</td>\n",
              "      <td>0.0</td>\n",
              "      <td>0.000000</td>\n",
              "      <td>0.0</td>\n",
              "      <td>0.0</td>\n",
              "      <td>0.00000</td>\n",
              "      <td>...</td>\n",
              "      <td>0.0</td>\n",
              "      <td>0.0</td>\n",
              "      <td>0.0</td>\n",
              "      <td>0.0</td>\n",
              "      <td>0.000000</td>\n",
              "      <td>0.0</td>\n",
              "      <td>0.0</td>\n",
              "      <td>0.000000</td>\n",
              "      <td>0.000000</td>\n",
              "      <td>0.0</td>\n",
              "    </tr>\n",
              "    <tr>\n",
              "      <th>1</th>\n",
              "      <td>0.000000</td>\n",
              "      <td>0.060481</td>\n",
              "      <td>0.000000</td>\n",
              "      <td>0.0</td>\n",
              "      <td>0.077384</td>\n",
              "      <td>0.0</td>\n",
              "      <td>0.000000</td>\n",
              "      <td>0.0</td>\n",
              "      <td>0.0</td>\n",
              "      <td>0.00000</td>\n",
              "      <td>...</td>\n",
              "      <td>0.0</td>\n",
              "      <td>0.0</td>\n",
              "      <td>0.0</td>\n",
              "      <td>0.0</td>\n",
              "      <td>0.085205</td>\n",
              "      <td>0.0</td>\n",
              "      <td>0.0</td>\n",
              "      <td>0.086117</td>\n",
              "      <td>0.000000</td>\n",
              "      <td>0.0</td>\n",
              "    </tr>\n",
              "    <tr>\n",
              "      <th>2</th>\n",
              "      <td>0.057872</td>\n",
              "      <td>0.000000</td>\n",
              "      <td>0.083609</td>\n",
              "      <td>0.0</td>\n",
              "      <td>0.000000</td>\n",
              "      <td>0.0</td>\n",
              "      <td>0.087024</td>\n",
              "      <td>0.0</td>\n",
              "      <td>0.0</td>\n",
              "      <td>0.00000</td>\n",
              "      <td>...</td>\n",
              "      <td>0.0</td>\n",
              "      <td>0.0</td>\n",
              "      <td>0.0</td>\n",
              "      <td>0.0</td>\n",
              "      <td>0.000000</td>\n",
              "      <td>0.0</td>\n",
              "      <td>0.0</td>\n",
              "      <td>0.094884</td>\n",
              "      <td>0.185714</td>\n",
              "      <td>0.0</td>\n",
              "    </tr>\n",
              "    <tr>\n",
              "      <th>3</th>\n",
              "      <td>0.000000</td>\n",
              "      <td>0.000000</td>\n",
              "      <td>0.000000</td>\n",
              "      <td>0.0</td>\n",
              "      <td>0.020073</td>\n",
              "      <td>0.0</td>\n",
              "      <td>0.000000</td>\n",
              "      <td>0.0</td>\n",
              "      <td>0.0</td>\n",
              "      <td>0.02248</td>\n",
              "      <td>...</td>\n",
              "      <td>0.0</td>\n",
              "      <td>0.0</td>\n",
              "      <td>0.0</td>\n",
              "      <td>0.0</td>\n",
              "      <td>0.000000</td>\n",
              "      <td>0.0</td>\n",
              "      <td>0.0</td>\n",
              "      <td>0.022339</td>\n",
              "      <td>0.000000</td>\n",
              "      <td>0.0</td>\n",
              "    </tr>\n",
              "    <tr>\n",
              "      <th>4</th>\n",
              "      <td>0.000000</td>\n",
              "      <td>0.000000</td>\n",
              "      <td>0.000000</td>\n",
              "      <td>0.0</td>\n",
              "      <td>0.000000</td>\n",
              "      <td>0.0</td>\n",
              "      <td>0.000000</td>\n",
              "      <td>0.0</td>\n",
              "      <td>0.0</td>\n",
              "      <td>0.00000</td>\n",
              "      <td>...</td>\n",
              "      <td>0.0</td>\n",
              "      <td>0.0</td>\n",
              "      <td>0.0</td>\n",
              "      <td>0.0</td>\n",
              "      <td>0.000000</td>\n",
              "      <td>0.0</td>\n",
              "      <td>0.0</td>\n",
              "      <td>0.000000</td>\n",
              "      <td>0.000000</td>\n",
              "      <td>0.0</td>\n",
              "    </tr>\n",
              "  </tbody>\n",
              "</table>\n",
              "<p>5 rows × 1000 columns</p>\n",
              "</div>\n",
              "    <div class=\"colab-df-buttons\">\n",
              "\n",
              "  <div class=\"colab-df-container\">\n",
              "    <button class=\"colab-df-convert\" onclick=\"convertToInteractive('df-d6b6c4ab-3493-4a3b-8cc3-f7f3cb181e51')\"\n",
              "            title=\"Convert this dataframe to an interactive table.\"\n",
              "            style=\"display:none;\">\n",
              "\n",
              "  <svg xmlns=\"http://www.w3.org/2000/svg\" height=\"24px\" viewBox=\"0 -960 960 960\">\n",
              "    <path d=\"M120-120v-720h720v720H120Zm60-500h600v-160H180v160Zm220 220h160v-160H400v160Zm0 220h160v-160H400v160ZM180-400h160v-160H180v160Zm440 0h160v-160H620v160ZM180-180h160v-160H180v160Zm440 0h160v-160H620v160Z\"/>\n",
              "  </svg>\n",
              "    </button>\n",
              "\n",
              "  <style>\n",
              "    .colab-df-container {\n",
              "      display:flex;\n",
              "      gap: 12px;\n",
              "    }\n",
              "\n",
              "    .colab-df-convert {\n",
              "      background-color: #E8F0FE;\n",
              "      border: none;\n",
              "      border-radius: 50%;\n",
              "      cursor: pointer;\n",
              "      display: none;\n",
              "      fill: #1967D2;\n",
              "      height: 32px;\n",
              "      padding: 0 0 0 0;\n",
              "      width: 32px;\n",
              "    }\n",
              "\n",
              "    .colab-df-convert:hover {\n",
              "      background-color: #E2EBFA;\n",
              "      box-shadow: 0px 1px 2px rgba(60, 64, 67, 0.3), 0px 1px 3px 1px rgba(60, 64, 67, 0.15);\n",
              "      fill: #174EA6;\n",
              "    }\n",
              "\n",
              "    .colab-df-buttons div {\n",
              "      margin-bottom: 4px;\n",
              "    }\n",
              "\n",
              "    [theme=dark] .colab-df-convert {\n",
              "      background-color: #3B4455;\n",
              "      fill: #D2E3FC;\n",
              "    }\n",
              "\n",
              "    [theme=dark] .colab-df-convert:hover {\n",
              "      background-color: #434B5C;\n",
              "      box-shadow: 0px 1px 3px 1px rgba(0, 0, 0, 0.15);\n",
              "      filter: drop-shadow(0px 1px 2px rgba(0, 0, 0, 0.3));\n",
              "      fill: #FFFFFF;\n",
              "    }\n",
              "  </style>\n",
              "\n",
              "    <script>\n",
              "      const buttonEl =\n",
              "        document.querySelector('#df-d6b6c4ab-3493-4a3b-8cc3-f7f3cb181e51 button.colab-df-convert');\n",
              "      buttonEl.style.display =\n",
              "        google.colab.kernel.accessAllowed ? 'block' : 'none';\n",
              "\n",
              "      async function convertToInteractive(key) {\n",
              "        const element = document.querySelector('#df-d6b6c4ab-3493-4a3b-8cc3-f7f3cb181e51');\n",
              "        const dataTable =\n",
              "          await google.colab.kernel.invokeFunction('convertToInteractive',\n",
              "                                                    [key], {});\n",
              "        if (!dataTable) return;\n",
              "\n",
              "        const docLinkHtml = 'Like what you see? Visit the ' +\n",
              "          '<a target=\"_blank\" href=https://colab.research.google.com/notebooks/data_table.ipynb>data table notebook</a>'\n",
              "          + ' to learn more about interactive tables.';\n",
              "        element.innerHTML = '';\n",
              "        dataTable['output_type'] = 'display_data';\n",
              "        await google.colab.output.renderOutput(dataTable, element);\n",
              "        const docLink = document.createElement('div');\n",
              "        docLink.innerHTML = docLinkHtml;\n",
              "        element.appendChild(docLink);\n",
              "      }\n",
              "    </script>\n",
              "  </div>\n",
              "\n",
              "\n",
              "<div id=\"df-5ce31145-5fb3-4855-8b94-b72d5d58025f\">\n",
              "  <button class=\"colab-df-quickchart\" onclick=\"quickchart('df-5ce31145-5fb3-4855-8b94-b72d5d58025f')\"\n",
              "            title=\"Suggest charts\"\n",
              "            style=\"display:none;\">\n",
              "\n",
              "<svg xmlns=\"http://www.w3.org/2000/svg\" height=\"24px\"viewBox=\"0 0 24 24\"\n",
              "     width=\"24px\">\n",
              "    <g>\n",
              "        <path d=\"M19 3H5c-1.1 0-2 .9-2 2v14c0 1.1.9 2 2 2h14c1.1 0 2-.9 2-2V5c0-1.1-.9-2-2-2zM9 17H7v-7h2v7zm4 0h-2V7h2v10zm4 0h-2v-4h2v4z\"/>\n",
              "    </g>\n",
              "</svg>\n",
              "  </button>\n",
              "\n",
              "<style>\n",
              "  .colab-df-quickchart {\n",
              "      --bg-color: #E8F0FE;\n",
              "      --fill-color: #1967D2;\n",
              "      --hover-bg-color: #E2EBFA;\n",
              "      --hover-fill-color: #174EA6;\n",
              "      --disabled-fill-color: #AAA;\n",
              "      --disabled-bg-color: #DDD;\n",
              "  }\n",
              "\n",
              "  [theme=dark] .colab-df-quickchart {\n",
              "      --bg-color: #3B4455;\n",
              "      --fill-color: #D2E3FC;\n",
              "      --hover-bg-color: #434B5C;\n",
              "      --hover-fill-color: #FFFFFF;\n",
              "      --disabled-bg-color: #3B4455;\n",
              "      --disabled-fill-color: #666;\n",
              "  }\n",
              "\n",
              "  .colab-df-quickchart {\n",
              "    background-color: var(--bg-color);\n",
              "    border: none;\n",
              "    border-radius: 50%;\n",
              "    cursor: pointer;\n",
              "    display: none;\n",
              "    fill: var(--fill-color);\n",
              "    height: 32px;\n",
              "    padding: 0;\n",
              "    width: 32px;\n",
              "  }\n",
              "\n",
              "  .colab-df-quickchart:hover {\n",
              "    background-color: var(--hover-bg-color);\n",
              "    box-shadow: 0 1px 2px rgba(60, 64, 67, 0.3), 0 1px 3px 1px rgba(60, 64, 67, 0.15);\n",
              "    fill: var(--button-hover-fill-color);\n",
              "  }\n",
              "\n",
              "  .colab-df-quickchart-complete:disabled,\n",
              "  .colab-df-quickchart-complete:disabled:hover {\n",
              "    background-color: var(--disabled-bg-color);\n",
              "    fill: var(--disabled-fill-color);\n",
              "    box-shadow: none;\n",
              "  }\n",
              "\n",
              "  .colab-df-spinner {\n",
              "    border: 2px solid var(--fill-color);\n",
              "    border-color: transparent;\n",
              "    border-bottom-color: var(--fill-color);\n",
              "    animation:\n",
              "      spin 1s steps(1) infinite;\n",
              "  }\n",
              "\n",
              "  @keyframes spin {\n",
              "    0% {\n",
              "      border-color: transparent;\n",
              "      border-bottom-color: var(--fill-color);\n",
              "      border-left-color: var(--fill-color);\n",
              "    }\n",
              "    20% {\n",
              "      border-color: transparent;\n",
              "      border-left-color: var(--fill-color);\n",
              "      border-top-color: var(--fill-color);\n",
              "    }\n",
              "    30% {\n",
              "      border-color: transparent;\n",
              "      border-left-color: var(--fill-color);\n",
              "      border-top-color: var(--fill-color);\n",
              "      border-right-color: var(--fill-color);\n",
              "    }\n",
              "    40% {\n",
              "      border-color: transparent;\n",
              "      border-right-color: var(--fill-color);\n",
              "      border-top-color: var(--fill-color);\n",
              "    }\n",
              "    60% {\n",
              "      border-color: transparent;\n",
              "      border-right-color: var(--fill-color);\n",
              "    }\n",
              "    80% {\n",
              "      border-color: transparent;\n",
              "      border-right-color: var(--fill-color);\n",
              "      border-bottom-color: var(--fill-color);\n",
              "    }\n",
              "    90% {\n",
              "      border-color: transparent;\n",
              "      border-bottom-color: var(--fill-color);\n",
              "    }\n",
              "  }\n",
              "</style>\n",
              "\n",
              "  <script>\n",
              "    async function quickchart(key) {\n",
              "      const quickchartButtonEl =\n",
              "        document.querySelector('#' + key + ' button');\n",
              "      quickchartButtonEl.disabled = true;  // To prevent multiple clicks.\n",
              "      quickchartButtonEl.classList.add('colab-df-spinner');\n",
              "      try {\n",
              "        const charts = await google.colab.kernel.invokeFunction(\n",
              "            'suggestCharts', [key], {});\n",
              "      } catch (error) {\n",
              "        console.error('Error during call to suggestCharts:', error);\n",
              "      }\n",
              "      quickchartButtonEl.classList.remove('colab-df-spinner');\n",
              "      quickchartButtonEl.classList.add('colab-df-quickchart-complete');\n",
              "    }\n",
              "    (() => {\n",
              "      let quickchartButtonEl =\n",
              "        document.querySelector('#df-5ce31145-5fb3-4855-8b94-b72d5d58025f button');\n",
              "      quickchartButtonEl.style.display =\n",
              "        google.colab.kernel.accessAllowed ? 'block' : 'none';\n",
              "    })();\n",
              "  </script>\n",
              "</div>\n",
              "\n",
              "    </div>\n",
              "  </div>\n"
            ]
          },
          "metadata": {},
          "execution_count": 19
        }
      ]
    },
    {
      "cell_type": "markdown",
      "metadata": {
        "id": "n_VFnOHrMMtT"
      },
      "source": [
        "Now let's get a little fancier with the `TfidfVEctorizer`: we'll use the keywords `ngram_range`, `max_df`, `min_df` and `tokenizer` to accomplish the following:\n",
        "- Build a vocabulary from unigrams and bigrams\n",
        "- Do \"statistical trimming\" by ignoring all terms with document frequency higher than `max_df` and all terms with document frequency lower than `min_df`\n",
        "- Use the `spaCy` tokenizer that we built"
      ]
    },
    {
      "cell_type": "code",
      "metadata": {
        "nbgrader": {
          "grade": false,
          "grade_id": "cell-0667a7a2ebea2224",
          "locked": false,
          "schema_version": 3,
          "solution": true,
          "task": false
        },
        "id": "cKB5QWy-dRAQ",
        "colab": {
          "base_uri": "https://localhost:8080/"
        },
        "outputId": "82d3ac05-6c4f-4c92-df74-6cdf86f98718"
      },
      "source": [
        "%%time\n",
        "# Tuning the Parameters of our Vectorizer\n",
        "\n",
        "### BEGIN SOLUTION\n",
        "\n",
        "# Instantiate vectorizer object (ngram_range includes unigrams and bigrams)\n",
        "tfidf = TfidfVectorizer(stop_words='english',\n",
        "                        ngram_range=(1,2),\n",
        "                        min_df=5,\n",
        "                        max_df=.5,\n",
        "                        tokenizer=tokenize)\n",
        "\n",
        "# Create a vocabulary and get word counts per document\n",
        "dtm = tfidf.fit_transform(data) # Similiar to fit_predict -- produces a sparse matrix\n",
        "\n",
        "# Get feature names to use as dataframe column headers\n",
        "dtm = pd.DataFrame(dtm.todense(), columns=tfidf.get_feature_names_out())\n",
        "print(dtm.shape)\n",
        "\n",
        "### END SOLUTION"
      ],
      "execution_count": null,
      "outputs": [
        {
          "output_type": "stream",
          "name": "stderr",
          "text": [
            "/usr/local/lib/python3.10/dist-packages/sklearn/feature_extraction/text.py:528: UserWarning: The parameter 'token_pattern' will not be used since 'tokenizer' is not None'\n",
            "  warnings.warn(\n"
          ]
        },
        {
          "output_type": "stream",
          "name": "stdout",
          "text": [
            "(401, 3545)\n",
            "CPU times: user 40.7 s, sys: 175 ms, total: 40.9 s\n",
            "Wall time: 42.4 s\n"
          ]
        }
      ]
    },
    {
      "cell_type": "code",
      "metadata": {
        "id": "kWJZl78z__ay",
        "colab": {
          "base_uri": "https://localhost:8080/"
        },
        "outputId": "14244207-d476-4e05-ef64-6988745c3ce6"
      },
      "source": [
        "dtm.columns"
      ],
      "execution_count": null,
      "outputs": [
        {
          "output_type": "execute_result",
          "data": {
            "text/plain": [
              "Index(['1,000', '1.3', '1.5', '1.5 million', '10', '10 million', '10 time',\n",
              "       '10 year', '10,000', '100',\n",
              "       ...\n",
              "       'year time', 'yen', 'yes', 'york', 'young', 'young people', 'youth',\n",
              "       'zombie', 'zone', 'zoom'],\n",
              "      dtype='object', length=3545)"
            ]
          },
          "metadata": {},
          "execution_count": 21
        }
      ]
    },
    {
      "cell_type": "markdown",
      "metadata": {
        "id": "jTMPm-hbdRAQ"
      },
      "source": [
        "## Challenge\n",
        "\n",
        "During this module's project assignment, you will transform data science job listings to vector representations for analysis downstream."
      ]
    },
    {
      "cell_type": "markdown",
      "metadata": {
        "id": "oddqm9omdRAR"
      },
      "source": [
        "# 2. Query Documents by Similarity (Learn)\n",
        "<a id=\"p2\"></a>"
      ]
    },
    {
      "cell_type": "markdown",
      "metadata": {
        "id": "myAGpeGOdRAR"
      },
      "source": [
        "## Overview\n",
        "\n",
        "Have you ever considered how a search bar works in Google? You may just think that search bars simply match your input text against the documents. While there are many different mechanisms for the 'match', one of the most classic is to search by similarity. We will apply two measures of similarity between a document and the input query document: the **Cosine Similarity** between the documents and the **Euclidean distance** between the documents. <br>\n",
        "\n",
        "Cosine Similarity is [more compute intensive](https://stackoverflow.com/questions/28917985/why-cosine-distance-is-much-slower-than-using-euclidean-distance-with-dbscan-alg) than Euclidean distance."
      ]
    },
    {
      "cell_type": "markdown",
      "metadata": {
        "toc-hr-collapsed": true,
        "id": "GG_E_NYfdRAR"
      },
      "source": [
        "## Follow Along\n",
        "*Cosine similarity* and *nearest-neighbor distance* provide two measures that can be used to gauge the similarity of one word to another. <br>\n",
        "We develop these concepts in this section."
      ]
    },
    {
      "cell_type": "markdown",
      "metadata": {
        "id": "m_vR2dvwdRAS"
      },
      "source": [
        "### 2.1 Cosine Similarity\n",
        "The [`cosine_simlarity`](https://scikit-learn.org/stable/modules/generated/sklearn.metrics.pairwise.cosine_similarity.html) between two feature vectors is the dot product of the *normalized* feature vectors. <br>To *normalize* a vector, you simply divide it by its length: thus<br><br>\n",
        "$\\text{cosine_similarity}(\\textbf{u},\\textbf{v})= \\frac{\\textbf{u}}{\\left\\|\\textbf{u}\\right\\|} \\cdot \\frac{\\textbf{v}}{\\left\\|\\textbf{v}\\right\\|}$, <br><br>\n",
        "where $\\left\\|\\textbf{u}\\right\\|$ is the length of the vector $\\textbf{u}$<br><br>\n",
        "\n",
        "$\\textbf{cosine_similarity}$ is in the interval $[0, 1]$, <br><br>\n",
        "The larger the $\\textbf{cosine_similarity}$, the more similar the words are, and vice-versa.<br><br>\n",
        "\n",
        "`cosine_similarity` takes as input the document-term matrix <br>\n",
        "and creates a **similarity matrix** in which the rows and columns represent documents <br>\n",
        "and entry ($i, j$) is the cosine similarity between documents $i$ and $j$.<br><br>\n",
        "\n",
        "Let's compute the **similarity matrix** for the BBC tech articles corpus<br>\n",
        "\n"
      ]
    },
    {
      "cell_type": "code",
      "metadata": {
        "nbgrader": {
          "grade": false,
          "grade_id": "cell-76ce78f9798d38bc",
          "locked": false,
          "schema_version": 3,
          "solution": true,
          "task": false
        },
        "id": "-PunUo9xdRAS",
        "colab": {
          "base_uri": "https://localhost:8080/"
        },
        "outputId": "abaad974-5730-4c24-895d-02dee8b49b36"
      },
      "source": [
        "%%time\n",
        "from sklearn.metrics.pairwise import cosine_similarity\n",
        "\n",
        "# Calculate Distance of TF-IDF Vectors\n",
        "\n",
        "# Turn it into a DataFrame\n",
        "\n",
        "# Our Similarity Matrix is ? size\n",
        "\n",
        "# Each row is the similarity of one document to all other documents (including itself)\n",
        "\n",
        "# Grab the row and pick off the indicies of the most/least similar docs\n",
        "\n",
        "# Calculate Distance of TF-IDF Vectors\n",
        "from sklearn.metrics.pairwise import cosine_similarity\n",
        "\n",
        "# similarity matrix\n",
        "dist_matrix = cosine_similarity(dtm)\n",
        "\n",
        "# Turn it into a DataFrame\n",
        "df = pd.DataFrame(dist_matrix)\n",
        "\n",
        "# Size of the Similarity Matrix\n",
        "print(df.shape)"
      ],
      "execution_count": null,
      "outputs": [
        {
          "output_type": "stream",
          "name": "stdout",
          "text": [
            "(401, 401)\n",
            "CPU times: user 44.9 ms, sys: 5.89 ms, total: 50.8 ms\n",
            "Wall time: 32 ms\n"
          ]
        }
      ]
    },
    {
      "cell_type": "code",
      "metadata": {
        "id": "jMaFFxxV9k6e",
        "colab": {
          "base_uri": "https://localhost:8080/",
          "height": 236
        },
        "outputId": "815f0b80-6339-43a5-9abc-6ea9c0c82b47"
      },
      "source": [
        "df.head()"
      ],
      "execution_count": null,
      "outputs": [
        {
          "output_type": "execute_result",
          "data": {
            "text/plain": [
              "        0         1         2         3         4         5         6    \\\n",
              "0  1.000000  0.013531  0.026140  0.034028  0.030238  0.034270  0.018293   \n",
              "1  0.013531  1.000000  0.005142  0.065231  0.010262  0.200120  0.012523   \n",
              "2  0.026140  0.005142  1.000000  0.074886  0.025091  0.045685  0.041691   \n",
              "3  0.034028  0.065231  0.074886  1.000000  0.011809  0.317023  0.012396   \n",
              "4  0.030238  0.010262  0.025091  0.011809  1.000000  0.022091  0.098411   \n",
              "\n",
              "        7         8         9    ...       391       392       393       394  \\\n",
              "0  0.034620  0.057390  0.033113  ...  0.038358  0.026822  0.041770  0.063612   \n",
              "1  0.046094  0.013814  0.007008  ...  0.010129  0.015276  0.006064  0.039454   \n",
              "2  0.029017  0.078418  0.115783  ...  0.025820  0.016230  0.060781  0.031815   \n",
              "3  0.146581  0.026919  0.168639  ...  0.034992  0.150852  0.031558  0.061529   \n",
              "4  0.012172  0.028443  0.039998  ...  0.082964  0.026927  0.119535  0.304088   \n",
              "\n",
              "        395       396       397       398       399       400  \n",
              "0  0.046915  0.012478  0.043794  0.028621  0.047323  0.048039  \n",
              "1  0.014654  0.005338  0.021002  0.017438  0.066782  0.052885  \n",
              "2  0.062495  0.027623  0.031671  0.049527  0.058356  0.035667  \n",
              "3  0.020833  0.025179  0.044222  0.023161  0.155217  0.060525  \n",
              "4  0.041397  0.053498  0.039427  0.020729  0.038738  0.024503  \n",
              "\n",
              "[5 rows x 401 columns]"
            ],
            "text/html": [
              "\n",
              "  <div id=\"df-6fd9ab11-1788-4f07-b748-680e922fea60\" class=\"colab-df-container\">\n",
              "    <div>\n",
              "<style scoped>\n",
              "    .dataframe tbody tr th:only-of-type {\n",
              "        vertical-align: middle;\n",
              "    }\n",
              "\n",
              "    .dataframe tbody tr th {\n",
              "        vertical-align: top;\n",
              "    }\n",
              "\n",
              "    .dataframe thead th {\n",
              "        text-align: right;\n",
              "    }\n",
              "</style>\n",
              "<table border=\"1\" class=\"dataframe\">\n",
              "  <thead>\n",
              "    <tr style=\"text-align: right;\">\n",
              "      <th></th>\n",
              "      <th>0</th>\n",
              "      <th>1</th>\n",
              "      <th>2</th>\n",
              "      <th>3</th>\n",
              "      <th>4</th>\n",
              "      <th>5</th>\n",
              "      <th>6</th>\n",
              "      <th>7</th>\n",
              "      <th>8</th>\n",
              "      <th>9</th>\n",
              "      <th>...</th>\n",
              "      <th>391</th>\n",
              "      <th>392</th>\n",
              "      <th>393</th>\n",
              "      <th>394</th>\n",
              "      <th>395</th>\n",
              "      <th>396</th>\n",
              "      <th>397</th>\n",
              "      <th>398</th>\n",
              "      <th>399</th>\n",
              "      <th>400</th>\n",
              "    </tr>\n",
              "  </thead>\n",
              "  <tbody>\n",
              "    <tr>\n",
              "      <th>0</th>\n",
              "      <td>1.000000</td>\n",
              "      <td>0.013531</td>\n",
              "      <td>0.026140</td>\n",
              "      <td>0.034028</td>\n",
              "      <td>0.030238</td>\n",
              "      <td>0.034270</td>\n",
              "      <td>0.018293</td>\n",
              "      <td>0.034620</td>\n",
              "      <td>0.057390</td>\n",
              "      <td>0.033113</td>\n",
              "      <td>...</td>\n",
              "      <td>0.038358</td>\n",
              "      <td>0.026822</td>\n",
              "      <td>0.041770</td>\n",
              "      <td>0.063612</td>\n",
              "      <td>0.046915</td>\n",
              "      <td>0.012478</td>\n",
              "      <td>0.043794</td>\n",
              "      <td>0.028621</td>\n",
              "      <td>0.047323</td>\n",
              "      <td>0.048039</td>\n",
              "    </tr>\n",
              "    <tr>\n",
              "      <th>1</th>\n",
              "      <td>0.013531</td>\n",
              "      <td>1.000000</td>\n",
              "      <td>0.005142</td>\n",
              "      <td>0.065231</td>\n",
              "      <td>0.010262</td>\n",
              "      <td>0.200120</td>\n",
              "      <td>0.012523</td>\n",
              "      <td>0.046094</td>\n",
              "      <td>0.013814</td>\n",
              "      <td>0.007008</td>\n",
              "      <td>...</td>\n",
              "      <td>0.010129</td>\n",
              "      <td>0.015276</td>\n",
              "      <td>0.006064</td>\n",
              "      <td>0.039454</td>\n",
              "      <td>0.014654</td>\n",
              "      <td>0.005338</td>\n",
              "      <td>0.021002</td>\n",
              "      <td>0.017438</td>\n",
              "      <td>0.066782</td>\n",
              "      <td>0.052885</td>\n",
              "    </tr>\n",
              "    <tr>\n",
              "      <th>2</th>\n",
              "      <td>0.026140</td>\n",
              "      <td>0.005142</td>\n",
              "      <td>1.000000</td>\n",
              "      <td>0.074886</td>\n",
              "      <td>0.025091</td>\n",
              "      <td>0.045685</td>\n",
              "      <td>0.041691</td>\n",
              "      <td>0.029017</td>\n",
              "      <td>0.078418</td>\n",
              "      <td>0.115783</td>\n",
              "      <td>...</td>\n",
              "      <td>0.025820</td>\n",
              "      <td>0.016230</td>\n",
              "      <td>0.060781</td>\n",
              "      <td>0.031815</td>\n",
              "      <td>0.062495</td>\n",
              "      <td>0.027623</td>\n",
              "      <td>0.031671</td>\n",
              "      <td>0.049527</td>\n",
              "      <td>0.058356</td>\n",
              "      <td>0.035667</td>\n",
              "    </tr>\n",
              "    <tr>\n",
              "      <th>3</th>\n",
              "      <td>0.034028</td>\n",
              "      <td>0.065231</td>\n",
              "      <td>0.074886</td>\n",
              "      <td>1.000000</td>\n",
              "      <td>0.011809</td>\n",
              "      <td>0.317023</td>\n",
              "      <td>0.012396</td>\n",
              "      <td>0.146581</td>\n",
              "      <td>0.026919</td>\n",
              "      <td>0.168639</td>\n",
              "      <td>...</td>\n",
              "      <td>0.034992</td>\n",
              "      <td>0.150852</td>\n",
              "      <td>0.031558</td>\n",
              "      <td>0.061529</td>\n",
              "      <td>0.020833</td>\n",
              "      <td>0.025179</td>\n",
              "      <td>0.044222</td>\n",
              "      <td>0.023161</td>\n",
              "      <td>0.155217</td>\n",
              "      <td>0.060525</td>\n",
              "    </tr>\n",
              "    <tr>\n",
              "      <th>4</th>\n",
              "      <td>0.030238</td>\n",
              "      <td>0.010262</td>\n",
              "      <td>0.025091</td>\n",
              "      <td>0.011809</td>\n",
              "      <td>1.000000</td>\n",
              "      <td>0.022091</td>\n",
              "      <td>0.098411</td>\n",
              "      <td>0.012172</td>\n",
              "      <td>0.028443</td>\n",
              "      <td>0.039998</td>\n",
              "      <td>...</td>\n",
              "      <td>0.082964</td>\n",
              "      <td>0.026927</td>\n",
              "      <td>0.119535</td>\n",
              "      <td>0.304088</td>\n",
              "      <td>0.041397</td>\n",
              "      <td>0.053498</td>\n",
              "      <td>0.039427</td>\n",
              "      <td>0.020729</td>\n",
              "      <td>0.038738</td>\n",
              "      <td>0.024503</td>\n",
              "    </tr>\n",
              "  </tbody>\n",
              "</table>\n",
              "<p>5 rows × 401 columns</p>\n",
              "</div>\n",
              "    <div class=\"colab-df-buttons\">\n",
              "\n",
              "  <div class=\"colab-df-container\">\n",
              "    <button class=\"colab-df-convert\" onclick=\"convertToInteractive('df-6fd9ab11-1788-4f07-b748-680e922fea60')\"\n",
              "            title=\"Convert this dataframe to an interactive table.\"\n",
              "            style=\"display:none;\">\n",
              "\n",
              "  <svg xmlns=\"http://www.w3.org/2000/svg\" height=\"24px\" viewBox=\"0 -960 960 960\">\n",
              "    <path d=\"M120-120v-720h720v720H120Zm60-500h600v-160H180v160Zm220 220h160v-160H400v160Zm0 220h160v-160H400v160ZM180-400h160v-160H180v160Zm440 0h160v-160H620v160ZM180-180h160v-160H180v160Zm440 0h160v-160H620v160Z\"/>\n",
              "  </svg>\n",
              "    </button>\n",
              "\n",
              "  <style>\n",
              "    .colab-df-container {\n",
              "      display:flex;\n",
              "      gap: 12px;\n",
              "    }\n",
              "\n",
              "    .colab-df-convert {\n",
              "      background-color: #E8F0FE;\n",
              "      border: none;\n",
              "      border-radius: 50%;\n",
              "      cursor: pointer;\n",
              "      display: none;\n",
              "      fill: #1967D2;\n",
              "      height: 32px;\n",
              "      padding: 0 0 0 0;\n",
              "      width: 32px;\n",
              "    }\n",
              "\n",
              "    .colab-df-convert:hover {\n",
              "      background-color: #E2EBFA;\n",
              "      box-shadow: 0px 1px 2px rgba(60, 64, 67, 0.3), 0px 1px 3px 1px rgba(60, 64, 67, 0.15);\n",
              "      fill: #174EA6;\n",
              "    }\n",
              "\n",
              "    .colab-df-buttons div {\n",
              "      margin-bottom: 4px;\n",
              "    }\n",
              "\n",
              "    [theme=dark] .colab-df-convert {\n",
              "      background-color: #3B4455;\n",
              "      fill: #D2E3FC;\n",
              "    }\n",
              "\n",
              "    [theme=dark] .colab-df-convert:hover {\n",
              "      background-color: #434B5C;\n",
              "      box-shadow: 0px 1px 3px 1px rgba(0, 0, 0, 0.15);\n",
              "      filter: drop-shadow(0px 1px 2px rgba(0, 0, 0, 0.3));\n",
              "      fill: #FFFFFF;\n",
              "    }\n",
              "  </style>\n",
              "\n",
              "    <script>\n",
              "      const buttonEl =\n",
              "        document.querySelector('#df-6fd9ab11-1788-4f07-b748-680e922fea60 button.colab-df-convert');\n",
              "      buttonEl.style.display =\n",
              "        google.colab.kernel.accessAllowed ? 'block' : 'none';\n",
              "\n",
              "      async function convertToInteractive(key) {\n",
              "        const element = document.querySelector('#df-6fd9ab11-1788-4f07-b748-680e922fea60');\n",
              "        const dataTable =\n",
              "          await google.colab.kernel.invokeFunction('convertToInteractive',\n",
              "                                                    [key], {});\n",
              "        if (!dataTable) return;\n",
              "\n",
              "        const docLinkHtml = 'Like what you see? Visit the ' +\n",
              "          '<a target=\"_blank\" href=https://colab.research.google.com/notebooks/data_table.ipynb>data table notebook</a>'\n",
              "          + ' to learn more about interactive tables.';\n",
              "        element.innerHTML = '';\n",
              "        dataTable['output_type'] = 'display_data';\n",
              "        await google.colab.output.renderOutput(dataTable, element);\n",
              "        const docLink = document.createElement('div');\n",
              "        docLink.innerHTML = docLinkHtml;\n",
              "        element.appendChild(docLink);\n",
              "      }\n",
              "    </script>\n",
              "  </div>\n",
              "\n",
              "\n",
              "<div id=\"df-c80b05a7-8814-4a9a-b95d-af958ec3a35b\">\n",
              "  <button class=\"colab-df-quickchart\" onclick=\"quickchart('df-c80b05a7-8814-4a9a-b95d-af958ec3a35b')\"\n",
              "            title=\"Suggest charts\"\n",
              "            style=\"display:none;\">\n",
              "\n",
              "<svg xmlns=\"http://www.w3.org/2000/svg\" height=\"24px\"viewBox=\"0 0 24 24\"\n",
              "     width=\"24px\">\n",
              "    <g>\n",
              "        <path d=\"M19 3H5c-1.1 0-2 .9-2 2v14c0 1.1.9 2 2 2h14c1.1 0 2-.9 2-2V5c0-1.1-.9-2-2-2zM9 17H7v-7h2v7zm4 0h-2V7h2v10zm4 0h-2v-4h2v4z\"/>\n",
              "    </g>\n",
              "</svg>\n",
              "  </button>\n",
              "\n",
              "<style>\n",
              "  .colab-df-quickchart {\n",
              "      --bg-color: #E8F0FE;\n",
              "      --fill-color: #1967D2;\n",
              "      --hover-bg-color: #E2EBFA;\n",
              "      --hover-fill-color: #174EA6;\n",
              "      --disabled-fill-color: #AAA;\n",
              "      --disabled-bg-color: #DDD;\n",
              "  }\n",
              "\n",
              "  [theme=dark] .colab-df-quickchart {\n",
              "      --bg-color: #3B4455;\n",
              "      --fill-color: #D2E3FC;\n",
              "      --hover-bg-color: #434B5C;\n",
              "      --hover-fill-color: #FFFFFF;\n",
              "      --disabled-bg-color: #3B4455;\n",
              "      --disabled-fill-color: #666;\n",
              "  }\n",
              "\n",
              "  .colab-df-quickchart {\n",
              "    background-color: var(--bg-color);\n",
              "    border: none;\n",
              "    border-radius: 50%;\n",
              "    cursor: pointer;\n",
              "    display: none;\n",
              "    fill: var(--fill-color);\n",
              "    height: 32px;\n",
              "    padding: 0;\n",
              "    width: 32px;\n",
              "  }\n",
              "\n",
              "  .colab-df-quickchart:hover {\n",
              "    background-color: var(--hover-bg-color);\n",
              "    box-shadow: 0 1px 2px rgba(60, 64, 67, 0.3), 0 1px 3px 1px rgba(60, 64, 67, 0.15);\n",
              "    fill: var(--button-hover-fill-color);\n",
              "  }\n",
              "\n",
              "  .colab-df-quickchart-complete:disabled,\n",
              "  .colab-df-quickchart-complete:disabled:hover {\n",
              "    background-color: var(--disabled-bg-color);\n",
              "    fill: var(--disabled-fill-color);\n",
              "    box-shadow: none;\n",
              "  }\n",
              "\n",
              "  .colab-df-spinner {\n",
              "    border: 2px solid var(--fill-color);\n",
              "    border-color: transparent;\n",
              "    border-bottom-color: var(--fill-color);\n",
              "    animation:\n",
              "      spin 1s steps(1) infinite;\n",
              "  }\n",
              "\n",
              "  @keyframes spin {\n",
              "    0% {\n",
              "      border-color: transparent;\n",
              "      border-bottom-color: var(--fill-color);\n",
              "      border-left-color: var(--fill-color);\n",
              "    }\n",
              "    20% {\n",
              "      border-color: transparent;\n",
              "      border-left-color: var(--fill-color);\n",
              "      border-top-color: var(--fill-color);\n",
              "    }\n",
              "    30% {\n",
              "      border-color: transparent;\n",
              "      border-left-color: var(--fill-color);\n",
              "      border-top-color: var(--fill-color);\n",
              "      border-right-color: var(--fill-color);\n",
              "    }\n",
              "    40% {\n",
              "      border-color: transparent;\n",
              "      border-right-color: var(--fill-color);\n",
              "      border-top-color: var(--fill-color);\n",
              "    }\n",
              "    60% {\n",
              "      border-color: transparent;\n",
              "      border-right-color: var(--fill-color);\n",
              "    }\n",
              "    80% {\n",
              "      border-color: transparent;\n",
              "      border-right-color: var(--fill-color);\n",
              "      border-bottom-color: var(--fill-color);\n",
              "    }\n",
              "    90% {\n",
              "      border-color: transparent;\n",
              "      border-bottom-color: var(--fill-color);\n",
              "    }\n",
              "  }\n",
              "</style>\n",
              "\n",
              "  <script>\n",
              "    async function quickchart(key) {\n",
              "      const quickchartButtonEl =\n",
              "        document.querySelector('#' + key + ' button');\n",
              "      quickchartButtonEl.disabled = true;  // To prevent multiple clicks.\n",
              "      quickchartButtonEl.classList.add('colab-df-spinner');\n",
              "      try {\n",
              "        const charts = await google.colab.kernel.invokeFunction(\n",
              "            'suggestCharts', [key], {});\n",
              "      } catch (error) {\n",
              "        console.error('Error during call to suggestCharts:', error);\n",
              "      }\n",
              "      quickchartButtonEl.classList.remove('colab-df-spinner');\n",
              "      quickchartButtonEl.classList.add('colab-df-quickchart-complete');\n",
              "    }\n",
              "    (() => {\n",
              "      let quickchartButtonEl =\n",
              "        document.querySelector('#df-c80b05a7-8814-4a9a-b95d-af958ec3a35b button');\n",
              "      quickchartButtonEl.style.display =\n",
              "        google.colab.kernel.accessAllowed ? 'block' : 'none';\n",
              "    })();\n",
              "  </script>\n",
              "</div>\n",
              "\n",
              "    </div>\n",
              "  </div>\n"
            ]
          },
          "metadata": {},
          "execution_count": 31
        }
      ]
    },
    {
      "cell_type": "code",
      "metadata": {
        "id": "XDtkkqU8Qx25",
        "colab": {
          "base_uri": "https://localhost:8080/"
        },
        "outputId": "7a118c42-1762-400b-8391-7183d58a7702"
      },
      "source": [
        "# Each row is the similarity of one document to all other documents (including itself)\n",
        "df.iloc[0]"
      ],
      "execution_count": null,
      "outputs": [
        {
          "output_type": "execute_result",
          "data": {
            "text/plain": [
              "0      1.000000\n",
              "1      0.020128\n",
              "2      0.089902\n",
              "3      0.061569\n",
              "4      0.028239\n",
              "         ...   \n",
              "396    0.022986\n",
              "397    0.012086\n",
              "398    0.062574\n",
              "399    0.051672\n",
              "400    0.015538\n",
              "Name: 0, Length: 401, dtype: float64"
            ]
          },
          "metadata": {},
          "execution_count": 23
        }
      ]
    },
    {
      "cell_type": "markdown",
      "metadata": {
        "id": "WFV_5FzLijNo"
      },
      "source": [
        "### Find the most similar documents to the first document"
      ]
    },
    {
      "cell_type": "code",
      "metadata": {
        "id": "JW0zaZkFQtgS",
        "colab": {
          "base_uri": "https://localhost:8080/"
        },
        "outputId": "0081a903-8a62-4bfa-e8c5-141220cb2064"
      },
      "source": [
        "### BEGIN SOLUTION\n",
        "# Grab the first row and return the indices of the 5 most similar docs\n",
        "df.iloc[0].sort_values(ascending=False)[:6]\n",
        "### END SOLUTION"
      ],
      "execution_count": null,
      "outputs": [
        {
          "output_type": "execute_result",
          "data": {
            "text/plain": [
              "0      1.000000\n",
              "241    0.692531\n",
              "243    0.692531\n",
              "391    0.667674\n",
              "269    0.666795\n",
              "296    0.522159\n",
              "Name: 0, dtype: float64"
            ]
          },
          "metadata": {},
          "execution_count": 24
        }
      ]
    },
    {
      "cell_type": "markdown",
      "metadata": {
        "id": "msStkSPqdRAS"
      },
      "source": [
        "### 2.2 K Nearest Neighbors Search (kNN)\n",
        "\n",
        "<img src=\"https://miro.medium.com/max/753/0*jqxx3-dJqFjXD6FA\" width=\"600\" height=\"400\" />\n",
        "\n",
        "\n",
        "Nearest Neighbor models are distance based algorithms. They store your training set in memory."
      ]
    },
    {
      "cell_type": "markdown",
      "metadata": {
        "id": "CD4Oru_DlAhu"
      },
      "source": [
        "### `scikit-learn`'s `NearestNeighbors` class\n",
        "computes distances between all pairs of data points, <br>\n",
        "and returns the result in the form of a similarity matrix. <br>\n",
        "Entry $(i,j)$ in the similarity matrix records the similarity of data points $i$ and $j$.<br>\n",
        "\n",
        "Below is an example using `NearestNeighbors` to find the most similar documents to a given documentL\n"
      ]
    },
    {
      "cell_type": "code",
      "metadata": {
        "nbgrader": {
          "grade": false,
          "grade_id": "cell-eac83ba5d76f6bf2",
          "locked": false,
          "schema_version": 3,
          "solution": true,
          "task": false
        },
        "id": "OaF7cC7jdRAS",
        "colab": {
          "base_uri": "https://localhost:8080/",
          "height": 109
        },
        "outputId": "1045849f-af95-4e95-94d3-ff2ed90b1c2b"
      },
      "source": [
        "%%time\n",
        "from sklearn.neighbors import NearestNeighbors\n",
        "\n",
        "# Instantiate the nearest neighbors model\n",
        "nn = NearestNeighbors()\n",
        "\n",
        "# fit to our document term matrix\n",
        "nn.fit(dtm.values)"
      ],
      "execution_count": null,
      "outputs": [
        {
          "output_type": "stream",
          "name": "stdout",
          "text": [
            "CPU times: user 2.13 ms, sys: 5 µs, total: 2.14 ms\n",
            "Wall time: 2.15 ms\n"
          ]
        },
        {
          "output_type": "execute_result",
          "data": {
            "text/plain": [
              "NearestNeighbors()"
            ],
            "text/html": [
              "<style>#sk-container-id-1 {color: black;background-color: white;}#sk-container-id-1 pre{padding: 0;}#sk-container-id-1 div.sk-toggleable {background-color: white;}#sk-container-id-1 label.sk-toggleable__label {cursor: pointer;display: block;width: 100%;margin-bottom: 0;padding: 0.3em;box-sizing: border-box;text-align: center;}#sk-container-id-1 label.sk-toggleable__label-arrow:before {content: \"▸\";float: left;margin-right: 0.25em;color: #696969;}#sk-container-id-1 label.sk-toggleable__label-arrow:hover:before {color: black;}#sk-container-id-1 div.sk-estimator:hover label.sk-toggleable__label-arrow:before {color: black;}#sk-container-id-1 div.sk-toggleable__content {max-height: 0;max-width: 0;overflow: hidden;text-align: left;background-color: #f0f8ff;}#sk-container-id-1 div.sk-toggleable__content pre {margin: 0.2em;color: black;border-radius: 0.25em;background-color: #f0f8ff;}#sk-container-id-1 input.sk-toggleable__control:checked~div.sk-toggleable__content {max-height: 200px;max-width: 100%;overflow: auto;}#sk-container-id-1 input.sk-toggleable__control:checked~label.sk-toggleable__label-arrow:before {content: \"▾\";}#sk-container-id-1 div.sk-estimator input.sk-toggleable__control:checked~label.sk-toggleable__label {background-color: #d4ebff;}#sk-container-id-1 div.sk-label input.sk-toggleable__control:checked~label.sk-toggleable__label {background-color: #d4ebff;}#sk-container-id-1 input.sk-hidden--visually {border: 0;clip: rect(1px 1px 1px 1px);clip: rect(1px, 1px, 1px, 1px);height: 1px;margin: -1px;overflow: hidden;padding: 0;position: absolute;width: 1px;}#sk-container-id-1 div.sk-estimator {font-family: monospace;background-color: #f0f8ff;border: 1px dotted black;border-radius: 0.25em;box-sizing: border-box;margin-bottom: 0.5em;}#sk-container-id-1 div.sk-estimator:hover {background-color: #d4ebff;}#sk-container-id-1 div.sk-parallel-item::after {content: \"\";width: 100%;border-bottom: 1px solid gray;flex-grow: 1;}#sk-container-id-1 div.sk-label:hover label.sk-toggleable__label {background-color: #d4ebff;}#sk-container-id-1 div.sk-serial::before {content: \"\";position: absolute;border-left: 1px solid gray;box-sizing: border-box;top: 0;bottom: 0;left: 50%;z-index: 0;}#sk-container-id-1 div.sk-serial {display: flex;flex-direction: column;align-items: center;background-color: white;padding-right: 0.2em;padding-left: 0.2em;position: relative;}#sk-container-id-1 div.sk-item {position: relative;z-index: 1;}#sk-container-id-1 div.sk-parallel {display: flex;align-items: stretch;justify-content: center;background-color: white;position: relative;}#sk-container-id-1 div.sk-item::before, #sk-container-id-1 div.sk-parallel-item::before {content: \"\";position: absolute;border-left: 1px solid gray;box-sizing: border-box;top: 0;bottom: 0;left: 50%;z-index: -1;}#sk-container-id-1 div.sk-parallel-item {display: flex;flex-direction: column;z-index: 1;position: relative;background-color: white;}#sk-container-id-1 div.sk-parallel-item:first-child::after {align-self: flex-end;width: 50%;}#sk-container-id-1 div.sk-parallel-item:last-child::after {align-self: flex-start;width: 50%;}#sk-container-id-1 div.sk-parallel-item:only-child::after {width: 0;}#sk-container-id-1 div.sk-dashed-wrapped {border: 1px dashed gray;margin: 0 0.4em 0.5em 0.4em;box-sizing: border-box;padding-bottom: 0.4em;background-color: white;}#sk-container-id-1 div.sk-label label {font-family: monospace;font-weight: bold;display: inline-block;line-height: 1.2em;}#sk-container-id-1 div.sk-label-container {text-align: center;}#sk-container-id-1 div.sk-container {/* jupyter's `normalize.less` sets `[hidden] { display: none; }` but bootstrap.min.css set `[hidden] { display: none !important; }` so we also need the `!important` here to be able to override the default hidden behavior on the sphinx rendered scikit-learn.org. See: https://github.com/scikit-learn/scikit-learn/issues/21755 */display: inline-block !important;position: relative;}#sk-container-id-1 div.sk-text-repr-fallback {display: none;}</style><div id=\"sk-container-id-1\" class=\"sk-top-container\"><div class=\"sk-text-repr-fallback\"><pre>NearestNeighbors()</pre><b>In a Jupyter environment, please rerun this cell to show the HTML representation or trust the notebook. <br />On GitHub, the HTML representation is unable to render, please try loading this page with nbviewer.org.</b></div><div class=\"sk-container\" hidden><div class=\"sk-item\"><div class=\"sk-estimator sk-toggleable\"><input class=\"sk-toggleable__control sk-hidden--visually\" id=\"sk-estimator-id-1\" type=\"checkbox\" checked><label for=\"sk-estimator-id-1\" class=\"sk-toggleable__label sk-toggleable__label-arrow\">NearestNeighbors</label><div class=\"sk-toggleable__content\"><pre>NearestNeighbors()</pre></div></div></div></div></div>"
            ]
          },
          "metadata": {},
          "execution_count": 25
        }
      ]
    },
    {
      "cell_type": "markdown",
      "metadata": {
        "id": "tPbW_1sum9NP"
      },
      "source": [
        "Find the 5 most similar documents to a query document; here we will choose the first document as our query document"
      ]
    },
    {
      "cell_type": "code",
      "metadata": {
        "id": "krvdbifUpi4X"
      },
      "source": [
        "# sample a doc from a dtm to use as our query point\n",
        "doc_index = 0\n",
        "query_doc = dtm.values[0][None,:] # re-cast as a row vector\n",
        "\n",
        "# Query Using the kneighbors method\n",
        "# NOTE: nn counts the original document as one of the neighbors, so if we want 5 nearest neighbors, we should set n_neightbors=6\n",
        "neigh_dist, neigh_index = nn.kneighbors(query_doc,n_neighbors=6)"
      ],
      "execution_count": null,
      "outputs": []
    },
    {
      "cell_type": "code",
      "metadata": {
        "id": "3SUrN_YrvPsK",
        "colab": {
          "base_uri": "https://localhost:8080/"
        },
        "outputId": "de149be7-336a-4660-8594-9bc84dabf6ce"
      },
      "source": [
        "# nearest neighbor search returns the same documents as cosine similarity!\n",
        "print(neigh_index)\n",
        "print(neigh_dist)"
      ],
      "execution_count": null,
      "outputs": [
        {
          "output_type": "stream",
          "name": "stdout",
          "text": [
            "[[  0 382 258  68 159 216]]\n",
            "[[0.         1.06020512 1.07019395 1.0746821  1.1083797  1.12182227]]\n"
          ]
        }
      ]
    },
    {
      "cell_type": "code",
      "metadata": {
        "id": "PDM_NrH7IBr8",
        "colab": {
          "base_uri": "https://localhost:8080/",
          "height": 105
        },
        "outputId": "06881676-aeb4-4bc8-b2ac-687696dc0fb3"
      },
      "source": [
        "data[0]"
      ],
      "execution_count": null,
      "outputs": [
        {
          "output_type": "execute_result",
          "data": {
            "text/plain": [
              "'Global blogger action day called\\n\\nThe global web blog community is being called into action to lend support to two imprisoned Iranian bloggers.\\n\\nThe month-old Committee to Protect Bloggers\\' is asking those with blogs to dedicate their sites on 22 February to the \"Free Mojtaba and Arash Day\". Arash Sigarchi and Mojtaba Saminejad are both in prison in Iran. Blogs are free sites through which people publish thoughts and opinions. Iranian authorities have been clamping down on prominent sites for some time. \"I hope this day will focus people,\" Curt Hopkins, director of the Committee, told the BBC News website.\\n\\nThe group has a list of actions which it says bloggers can take, including writing to local Iranian embassies. The Committee has deemed Tuesday \"Free Mojtaba and Arash Day\" as part of its first campaign. It is calling on the blogsphere - the name for the worldwide community of bloggers - to do what it can to help raise awareness of the plight of Mojtaba and Arash as well as other \"cyber-dissidents\". \"If you have a blog, the least you could do is put nothing on that blog except \\'Free Mojtaba and Arash Day\\',\" said Mr Hopkins. \"That would mean you could see that phrase 7.1 million times. That alone will shine some light on the situation. \"If you don\\'t have one, find one dedicated to that - it takes about 30 seconds.\" Technorati, a blog search engine, tracks about six million blogs and says that more than 12,000 are added daily. A blog is created every 5.8 seconds, according to a US research think-tank.\\n\\nThe Committee to Protect Bloggers was started by US blogger Curt Hopkins and counts fired flight attendant blogger Ellen Simonetti as a deputy director. She has since started the International Bloggers\\' Bill of Rights, a global petition to protect bloggers at work. Although not the only website committed to human rights issues by any means, it aims to be the hub or organisation, information and support for bloggers in particular and their rights to freedom of speech.\\n\\nThe Committee, although only a month old, aims to be the focal point for blogger action on similar issues in the future, and will operate as a non-for-profit organisation. \"Blogging is in this weird no man\\'s land. People think of it as being one thing or another depending on their point of view,\" said Mr Hopkins. \"Some think of themselves as pundits, kind of like journalists, and some like me have a private blog which is just a publishing platform. \"But they do not have a constituency and are out there in the cold.\"\\n\\nIt is not just human rights issues in countries which have a track record of restricting what is published in the media that is of concern to bloggers. The question of bloggers and what rights they have to say what they want on their sites is a thorny one and has received much press attention recently. High profile cases in which employees have been sacked for what they have said on their personal, and often anonymous blogs, have highlighted the muddy situation that the blogsphere is currently in.\\n\\n\"This is a big messy argument,\" explained Mr Hopkins. He added: \"It is just such a new way of doing business, there will be clamp downs.\" But the way these issues get tested is through the courts which, said Mr Hopkins, \"is part of the whole messy conversation.\" \"If you haven\\'t already got bloggers in your company, you will have them tomorrow - and if you don\\'t have a blogger policy now you had better start looking at having one. Mr Hopkins said that the blogsphere - which is doubling every five months - was powerful because it takes so little time and expertise to create a blog. \"Everyone does this - mums, radicals, conservatives,\" he said. Many companies offer easy-to-use services to create a blog and publish it in minutes to a global community. \"That is the essential difference. What I call \\'templating software\\' gives every single person on Earth the chance to have one. \"You don\\'t even have to have your own computer.\"\\n'"
            ],
            "application/vnd.google.colaboratory.intrinsic+json": {
              "type": "string"
            }
          },
          "metadata": {},
          "execution_count": 39
        }
      ]
    },
    {
      "cell_type": "code",
      "source": [
        "data[382]"
      ],
      "metadata": {
        "id": "R7jzq5UdVWIu",
        "colab": {
          "base_uri": "https://localhost:8080/",
          "height": 105
        },
        "outputId": "4b75ef0d-d2c4-4493-8b54-c9e6234be842"
      },
      "execution_count": null,
      "outputs": [
        {
          "output_type": "execute_result",
          "data": {
            "text/plain": [
              "'Web logs aid disaster recovery\\n\\nSome of the most vivid descriptions of the devastation in southern Asia are on the internet - in the form of web logs or blogs.\\n\\nBloggers have been offering snapshots of information from around the region and are also providing some useful information for those who want to help. Indian writer Rohit Gupta edits a group blog called Dogs without Borders. When he created it, the site was supposed to be a forum to discuss relations between India and Pakistan. But in the wake of Sunday\\'s tsunami, Mr Gupta and his fellow bloggers switched gears.\\n\\nThey wanted to blog the tsunami and its aftermath. One Sri Lankan blogger in the group goes by the online name Morquendi. With internet service disrupted by the tsunami, Morquendi started sending SMS text messages via cell phone from the affected areas of Sri Lanka. \"We started publishing these SMSes,\" says Mr Gupta.\\n\\n\"Morquendi was describing scenes like 1,600 bodies washed up on a shore, and people burying, and burying and burying them. People digging holes with their hands. And this was coming through an SMS message. \"We didn\\'t have visual accounts on radio or on TV, or in the print media.\" Soon, thousands of web users around the world were logging on to read Morquendi\\'s first hand accounts. In one message, Morquendi wrote about a Sri Lankan woman who was running home with a friend when the wave hit. \"She was being swept away,\" Morquendi\\'s message read. \"She grabbed a tree with one hand and her friend with the other. She says she watched the water pull her friend away.\" Mr Gupta says the power of Morquendi\\'s text message blogs was palpable. \"He was running around, looking for friends, burying bodies, carrying bodies,\" Mr Gupta says of Morquendi. \"I can\\'t even begin to imagine the psychological state he was in when he was sending us reports, and doing the relief work at the same time. \"He was caught between being a journalist and being a human being.\"\\n\\nOthers blogs are helping to spread information about relief efforts. Dina Mehta is an Indian blogger who\\'s helping with the newly created South East Asia Earthquake and Tsunami Blog. She says the blog is not meant to be filled with first person accounts. \"What we\\'re doing is we\\'re building a resource,\" she says. \"Anyone who says, OK, I want to come and do some work in India, volunteer in India, or in Sri Lanka or Malaysia, this is the sort of one-stop-shop that they can come to for all sorts of resources - emergency help lines, relief agencies, aid agencies, contacts for them etc.\"\\n\\nMs Mehta also says she wishes that governments in the region would realise the power of blogs. \"Imagine if they had this resource available to them, if there was a disaster, how quickly you could funnel aid in, and get people to help,\" she says. Bloggers in the United States are also getting involved. Ramdhan Yadav Kotamaraja is originally from India, but now lives in Dallas. Mr Kotamaraja wanted to help those affected by the tsunami by pooling money with concerned friends. So, he set up an online payment system on his website. Then, says Mr Kotamaraja, the blogging world found out. \"All my blogger friends started linking up my site, and I saw a lot of people other than my friends. I\\'d say 70% of the donations came from people I don\\'t know. \"It\\'s simply unbelievable to me, that people that I don\\'t know will come and start donating.\" News spreads quickly on weblogs, a phenomenon that helps bloggers expand their audience and scope. In Sri Lanka, blogger Morquendi is recruiting others to help. One recruit calls himself Heretic. In one of his latest posts, Heretic asks: \"Have you ever seen fishing trawlers on the road? Ever seen a bus inside a house? \"Well,\" Heretic writes, \"that was just the least affected areas - so you can just imagine - or can you?\" He concludes: \"Keep it blogged.\"\\n\\nClark Boyd is technology correspondent for The World, a BBC World Service and WGBH-Boston co-production.\\n'"
            ],
            "application/vnd.google.colaboratory.intrinsic+json": {
              "type": "string"
            }
          },
          "metadata": {},
          "execution_count": 41
        }
      ]
    },
    {
      "cell_type": "markdown",
      "source": [
        "Which words do these two documents have in common?"
      ],
      "metadata": {
        "id": "GJvImw9sYxQ7"
      }
    },
    {
      "cell_type": "code",
      "source": [
        "def shared_words(s1, s2):\n",
        "  res = []\n",
        "  l_s1, l_s2 = set(s1.split()), set(s2.split())\n",
        "  for ss1 in l_s1:\n",
        "    if ss1 in l_s2: res.append(ss1)\n",
        "  return res\n",
        "\n",
        "doc1_tokens = tokenize(data[0])\n",
        "doc2_tokens = tokenize(data[382])\n",
        "shared_words(' '.join(doc1_tokens), ' '.join(doc2_tokens))"
      ],
      "metadata": {
        "id": "zlxQ968QYtrm",
        "colab": {
          "base_uri": "https://localhost:8080/"
        },
        "outputId": "827fce12-aac2-4267-ad70-fc6a8889deb7"
      },
      "execution_count": null,
      "outputs": [
        {
          "output_type": "execute_result",
          "data": {
            "text/plain": [
              "['invention', 'fail', 'action', 'new', 'word', 'mean']"
            ]
          },
          "metadata": {},
          "execution_count": 27
        }
      ]
    },
    {
      "cell_type": "markdown",
      "metadata": {
        "id": "LhG-KESidGIn"
      },
      "source": [
        "### Exercise:\n",
        "Search the BBC dataset for documents most similar to a random query doc"
      ]
    },
    {
      "cell_type": "code",
      "metadata": {
        "id": "ouWYmCawdRAT"
      },
      "source": [
        "rndm_tech_article = [ \"\"\"\n",
        "Blockchain technology encompasses so much more than just cryptocurrencies these days. And while these currencies are by far blockchain’s most famous use case, the potential for blockchain far, far exceeds a straightforward transfer of value.\n",
        "The gaming industry, for example, has always been fairly controversial due to a range of issues. Many players feel particularly worried about the protection of their data, fraudulent activities, high fees, and most of all, unfair and hidden odds.\n",
        "In these cases, P2P doesn’t just mean peer-to-peer; it means player-to-player. As with the other P2P industries that blockchain is disrupting, such as FinTech, there are already plenty of ways in which blockchain technology is being applied to resolve these issues and many more of the challenges faced by the gaming industry. Here are just a few.\n",
        "Reducing fraud\n",
        "The gaming industry suffers a lot from online fraud. One of the main advantages of blockchain technology is that it enables highly secure data encryption. What’s more, all of it is entirely accessible and transparent to the player. In other words, blockchain is a for game changer for venues such as online casinos, lotteries, and virtually anything which relies on random number generation.\n",
        "On top of this, hackers will have particularly hard time, if it is even possible, to destroy a decentralized blockchain network, making sure gamer data stays safe. This is an inherent feature of distributed ledger technology whereby nodes in the ledger maintain the distributed databases in a shared manner, and each node has the complete information in the entire database.\n",
        "\"\"\"]\n"
      ],
      "execution_count": null,
      "outputs": []
    },
    {
      "cell_type": "code",
      "source": [
        "# transform the rndm_tech_article to get its document vector\n",
        "doc_tfidf = tfidf.transform(rndm_tech_article)\n",
        "doc_tfidf"
      ],
      "metadata": {
        "colab": {
          "base_uri": "https://localhost:8080/"
        },
        "id": "FZm8G7a8v2s6",
        "outputId": "f2a92fa6-e34c-4157-c9f9-de43f6d95408"
      },
      "execution_count": null,
      "outputs": [
        {
          "output_type": "execute_result",
          "data": {
            "text/plain": [
              "<1x3545 sparse matrix of type '<class 'numpy.float64'>'\n",
              "\twith 71 stored elements in Compressed Sparse Row format>"
            ]
          },
          "metadata": {},
          "execution_count": 29
        }
      ]
    },
    {
      "cell_type": "code",
      "source": [
        "# use k Nearest Neighbors to find the most similar documents in our document term matrix to the query\n",
        "neigh_dist, neigh_index = nn.kneighbors(doc_tfidf,n_neighbors=5)"
      ],
      "metadata": {
        "id": "d1Z_yaXfVpOk"
      },
      "execution_count": null,
      "outputs": []
    },
    {
      "cell_type": "code",
      "source": [
        "# Inspect the most similar documents\n",
        "neigh_dist"
      ],
      "metadata": {
        "id": "CQrZ5URfVqU6",
        "colab": {
          "base_uri": "https://localhost:8080/"
        },
        "outputId": "27e66b23-c18b-4dd8-f331-1d7b1ff3a4a1"
      },
      "execution_count": null,
      "outputs": [
        {
          "output_type": "execute_result",
          "data": {
            "text/plain": [
              "array([[1.28174686, 1.28184486, 1.29211657, 1.29453959, 1.31155666]])"
            ]
          },
          "metadata": {},
          "execution_count": 31
        }
      ]
    },
    {
      "cell_type": "code",
      "source": [
        "neigh_index"
      ],
      "metadata": {
        "colab": {
          "base_uri": "https://localhost:8080/"
        },
        "id": "w-RdmzutyaY5",
        "outputId": "f80e79f7-0b5c-4f30-ba13-4cc3e780ed16"
      },
      "execution_count": null,
      "outputs": [
        {
          "output_type": "execute_result",
          "data": {
            "text/plain": [
              "array([[  3, 150,  67, 257, 286]])"
            ]
          },
          "metadata": {},
          "execution_count": 32
        }
      ]
    },
    {
      "cell_type": "code",
      "source": [
        "doc1_tokens = tokenize(rndm_tech_article[0])\n",
        "doc2_tokens = tokenize(data[3])\n",
        "shared_words(' '.join(doc1_tokens), ' '.join(doc2_tokens))"
      ],
      "metadata": {
        "colab": {
          "base_uri": "https://localhost:8080/"
        },
        "id": "GyoaV0VXyfjy",
        "outputId": "62709bc0-c7a3-499f-84e4-6f51695bd39f"
      },
      "execution_count": null,
      "outputs": [
        {
          "output_type": "execute_result",
          "data": {
            "text/plain": [
              "['high',\n",
              " 'day',\n",
              " 'stay',\n",
              " 'p2p',\n",
              " 'way',\n",
              " 'transfer',\n",
              " 'online',\n",
              " 'potential',\n",
              " 'industry',\n",
              " 'issue',\n",
              " 'time',\n",
              " 'far',\n",
              " 'rely',\n",
              " 'technology',\n",
              " 'resolve',\n",
              " 'protection',\n",
              " 'case',\n",
              " 'share',\n",
              " 'example',\n",
              " 'use',\n",
              " 'network',\n",
              " 'lot',\n",
              " 'make',\n",
              " 'distribute',\n",
              " 'peer']"
            ]
          },
          "metadata": {},
          "execution_count": 35
        }
      ]
    },
    {
      "cell_type": "markdown",
      "metadata": {
        "id": "RaSuFg0ldRAT"
      },
      "source": [
        "## Challenge\n",
        "\n",
        "In the module project assignment, you will apply one of these search techniques to retrieve documents related to a query document."
      ]
    },
    {
      "cell_type": "markdown",
      "metadata": {
        "id": "3ugKeF8odRAT"
      },
      "source": [
        "# 3. Apply word embedding models to create document vectors (Learn)\n",
        "<a id=\"p3\"></a>\n"
      ]
    },
    {
      "cell_type": "markdown",
      "metadata": {
        "id": "K5wmBPMUdRAU"
      },
      "source": [
        "## Overview\n",
        "### Bag of Words (BoW) models lose information about context\n",
        "\n",
        "One of the limitations of Bag-of-Words approaches is that any information about the context surrounding that word is lost. This also means that with bag-of-words approaches often the only tools that we have for identifying words with similar usage or meaning and subsequently consolidating them into a single vector is through the processes of stemming and lemmatization which tend to be quite limited at consolidating words unless the two words are very close in their spelling or in their root parts-of-speech.\n",
        "\n",
        "### Embedding approaches preserve more textual context\n",
        "Word2Vec is an increasingly popular word embedding technique. Like Bag-of-words it learns a real-value vector representation for a predefined fixed-size vocabulary that is generated from a corpus of text. However, in contrast to BoW, Word2Vec approaches are much more capable of accounting for textual context, and are better at discovering words with similar meanings or usages (semantic or syntactic similarity).\n",
        "\n",
        "##3.1 Word2Vec Intuition\n",
        "Reference: [Deep NLP: Word Vectors with Word2Vec](https://medium.com/deep-learning-demystified/deep-nlp-word-vectors-with-word2vec-d62cb29b40b3)\n",
        "### The Distribution Hypothesis\n",
        "\n",
        "In order to understand how Word2Vec preserves textual context we have to understand what's called the [Distribution Hypothesis](https://en.wikipedia.org/wiki/Distributional_semantics). The Distribution Hypothesis operates under the assumption that words that have similar contexts will have similar meanings. Practically speaking, this means that if two words are found to have similar words both to the right and to the left of them throughout the corpora then those words have the same context and are assumed to have the same meaning.\n",
        "\n",
        "> \"You shall know a word by the company it keeps\" - John Firth\n",
        "\n",
        "This means that we let the usage of a word define its meaning and its \"similarity\" to other words. In the following example, which words would you say have a similar meaning?\n",
        "\n",
        "**Sentence 1**: Traffic was light today\n",
        "\n",
        "**Sentence 2**: Traffic was heavy yesterday\n",
        "\n",
        "**Sentence 3**: Prediction is that traffic will be smooth-flowing tomorrow since it is a national holiday\n",
        "\n",
        "What words in the above sentences seem to have a similar meaning if all you knew about them was the context in which they appeared above?\n",
        "\n",
        "Lets take a look at how this might work in action, the following example is simplified, but will give you an idea of the intuition for how this works.\n",
        "\n",
        "#### Corpora:\n",
        "\n",
        "1) \"It was the sunniest of days.\"\n",
        "\n",
        "2) \"It was the rainiest of days.\"\n",
        "\n",
        "#### Vocabulary:\n",
        "\n",
        "{\"it\": 1, \"was\": 2, \"the\": 3, \"of\": 4, \"days\": 5, \"sunniest\": 6, \"rainiest\": 7}\n",
        "\n",
        "### Vectorization\n",
        "\n",
        "|       doc   | START_was | it_the | was_sunniest | the_of | sunniest_days | of_it | days_was | it_the | was_rainiest | rainiest_days | of_END |\n",
        "|----------|-----------|--------|--------------|--------|---------------|-------|----------|--------|-------------|--------------|--------|\n",
        "| it       | 1         | 0      | 0            | 0      | 0             | 0     | 1        | 0      | 0           | 0            | 0      |\n",
        "| was      | 0         | 1      | 0            | 0      | 0             | 0     | 0        | 1      | 0           | 0            | 0      |\n",
        "| the      | 0         | 0      | 1            | 0      | 0             | 0     | 0        | 0      | 1           | 0            | 0      |\n",
        "| sunniest | 0         | 0      | 0            | 1      | 0             | 0     | 0        | 0      | 0           | 0            | 0      |\n",
        "| of       | 0         | 0      | 0            | 0      | 1             | 0     | 0        | 0      | 0           | 1            | 0      |\n",
        "| days     | 0         | 0      | 0            | 0      | 0             | 0     | 0        | 0      | 0           | 0            | 1      |\n",
        "| rainiest  | 0         | 0      | 0            | 1      | 0             | 0     | 0        | 0      | 0           | 0            | 0      |\n",
        "\n",
        "Each column vector represents the word's context -in this case defined by the words to the left and right of the center word. How far we look to the left and right of a given word is referred to as our \"window of context.\" Each row vector represents the the different usages of a given word. Word2Vec can consider a larger context than only words that are immediately to the left and right of a given word, but we're going to keep our window of context small for this example. What's most important is that this vectorization has translated our documents from a text representation to a numeric one in a way that preserves information about the underlying context.\n",
        "\n",
        "We can see that words that have a similar context will have similar row-vector representations, but before looking that more in-depth, lets simplify our vectorization slightly. You'll notice that we're repeating the column-vector \"it_the\" twice. Lets combine those into a single vector by adding them element-wise.\n",
        "\n",
        "|       *   | START_was | it_the | was_sunniest | the_of | sunniest_days | of_it | days_was | was_rainiest | rainiest_days | of_END |\n",
        "|----------|-----------|--------|--------------|--------|---------------|-------|----------|-------------|--------------|--------|\n",
        "| it       | 1         | 0      | 0            | 0      | 0             | 0     | 1        | 0           | 0            | 0      |\n",
        "| was      | 0         | 2      | 0            | 0      | 0             | 0     | 0        | 0           | 0            | 0      |\n",
        "| the      | 0         | 0      | 1            | 0      | 0             | 0     | 0        | 1           | 0            | 0      |\n",
        "| sunniest | 0         | 0      | 0            | 1      | 0             | 0     | 0        | 0           | 0            | 0      |\n",
        "| of       | 0         | 0      | 0            | 0      | 1             | 0     | 0        | 0           | 1            | 0      |\n",
        "| days     | 0         | 0      | 0            | 0      | 0             | 0     | 0        | 0           | 0            | 1      |\n",
        "| rainiest  | 0         | 0      | 0            | 1      | 0             | 0     | 0        | 0           | 0            | 0      |\n",
        "\n",
        "Now, can you spot which words have a similar row-vector representation? Hint: Look for values that are repeated in a given column. Each column represents the context that word was found in. If there are multiple words that share a context then those words are understood to have a closer meaning with each other than with other words in the text.\n",
        "\n",
        "Lets look specifically at the words sunniest and rainiest. You'll notice that these two words have exactly the same 10-dimensional vector representation. Based on this very small corpora of text we would conclude that these two words have relatd meanings because they share the same usage. Is this a good assumption? Well, they are both referring to the weather outside so that's better than nothing. You could imagine that as our corpora grows larger we will be exposed a greater number of contexts and the Distribution Hypothesis assumption will improve.\n",
        "\n",
        "##3.2 Word2Vec Variants\n",
        "\n",
        "###3.2.1 Skip-Gram\n",
        "\n",
        "The Skip-Gram method predicts the neighbors’ of a word given a center word. In the skip-gram model, we take a center word and a window of context (neighbors) words to train the model and then predict context words out to some window size for each center word.\n",
        "\n",
        "This notion of “context” or “neighboring” words is best described by considering a center word and a window of words around it.\n",
        "\n",
        "For example, if we consider the sentence **“The speedy Porsche drove past the elegant Rolls-Royce”** and a window size of 2, we’d have the following pairs for the skip-gram model:\n",
        "\n",
        "**Text:**\n",
        "**The**\tspeedy\tPorsche\tdrove\tpast\tthe\telegant\tRolls-Royce\n",
        "\n",
        "*Training Sample with window of 2*: (the, speedy), (the, Porsche)\n",
        "\n",
        "**Text:**\n",
        "The\t**speedy**\tPorsche\tdrove\tpast\tthe\telegant\tRolls-Royce\n",
        "\n",
        "*Training Sample with window of 2*: (speedy, the), (speedy, Porsche), (speedy, drove)\n",
        "\n",
        "**Text:**\n",
        "The\tspeedy\t**Porsche**\tdrove\tpast\tthe\telegant\tRolls-Royce\n",
        "\n",
        "*Training Sample with window of 2*: (Porsche, the), (Porsche, speedy), (Porsche, drove), (Porsche, past)\n",
        "\n",
        "**Text:**\n",
        "The\tspeedy\tPorsche\t**drove**\tpast\tthe\telegant\tRolls-Royce\n",
        "\n",
        "*Training Sample with window of 2*: (drove, speedy), (drove, Porsche), (drove, past), (drove, the)\n",
        "\n",
        "The **Skip-gram model** is going to output a probability distribution i.e. the probability of a word appearing in context given a center word and we are going to select the vector representation that maximizes the probability.\n",
        "\n",
        "With CountVectorizer and TF-IDF the best we could do for context was to look at common bi-grams and tri-grams (n-grams). Well, skip-grams go far beyond that and give our model much stronger contextual information.\n",
        "\n",
        "![alt text](https://www.dropbox.com/s/c7mwy6dk9k99bgh/Image%202%20-%20SkipGrams.jpg?raw=1)\n",
        "\n",
        "###3.2.2 Continuous Bag of Words\n",
        "\n",
        "This model takes thes opposite approach from the skip-gram model in that it tries to predict a center word based on the neighboring words. In the case of the CBOW model, we input the context words within the window (such as “the”, “Porsche”, “drove”) and aim to predict the target or center word “speedy” (the input to the prediction pipeline is reversed as compared to the SkipGram model).\n",
        "\n",
        "A graphical depiction of the input to output prediction pipeline for both variants of the Word2vec model is attached. The graphical depiction will help crystallize the difference between SkipGrams and Continuous Bag of Words.\n",
        "\n",
        "![alt text](https://www.dropbox.com/s/k3ddmbtd52wq2li/Image%203%20-%20CBOW%20Model.jpg?raw=1)\n",
        "\n",
        "###3.2.3 Notes on Word Embeddings:\n",
        "\n",
        "1) Word2Vec is useful for topic-modeling, because each word vector contains information about related context words.\n",
        "\n",
        "2) Word2Vec can result in really large and complex vectorizations. In fact, you need Deep Neural Networks to train your Word2Vec models from scratch, but we can use helpful pretrained embeddings to do really cool things!\n",
        "Let's take a look at how to work with these word vectors."
      ]
    },
    {
      "cell_type": "markdown",
      "metadata": {
        "id": "YbCusle-77J4"
      },
      "source": [
        "## 3.3 Spacy word embeddings\n",
        "#### `spacy` provides pretrained Word2Vec models.\n",
        "\n",
        "We will use their `en_core_web_md` model, which has 300-dimensional word embeddings for 20,000 words."
      ]
    },
    {
      "cell_type": "code",
      "metadata": {
        "nbgrader": {
          "grade": false,
          "grade_id": "cell-08acf3f0c46d7591",
          "locked": false,
          "schema_version": 3,
          "solution": true,
          "task": false
        },
        "scrolled": true,
        "id": "zfaoM_g7dRAU",
        "colab": {
          "base_uri": "https://localhost:8080/"
        },
        "outputId": "b2f8abb7-e94f-454d-bf41-a7462b81473b"
      },
      "source": [
        "# Process a text\n",
        "doc = nlp(\"bananas\")\n",
        "\n",
        "# Get the vector for the token \"bananas\"\n",
        "bananas_vector = doc.vector\n",
        "\n",
        "# print the dimensionality of the vector embedding\n",
        "print(len(bananas_vector))\n",
        "print(bananas_vector)"
      ],
      "execution_count": null,
      "outputs": [
        {
          "output_type": "stream",
          "name": "stdout",
          "text": [
            "300\n",
            "[-2.1689e-01 -2.5989e+00 -1.3144e+00  2.2500e+00 -4.6767e-01 -2.0695e+00\n",
            " -6.3379e-01 -4.0222e-01 -3.4022e+00 -3.6932e-01 -7.9938e-01 -1.0412e+00\n",
            "  9.3756e-01  1.6070e+00  8.8330e-01 -2.8483e+00  1.3349e-01 -3.1656e+00\n",
            "  8.1896e-01 -4.8113e+00  1.5655e+00  1.6665e+00 -4.7081e-01 -1.9475e+00\n",
            " -1.1779e+00 -1.3810e+00 -2.0071e+00 -2.1639e-01  9.0609e-01  1.5279e+00\n",
            "  1.2587e-04 -2.9000e+00  7.6069e-01 -2.2825e+00  1.2495e-02 -1.5653e+00\n",
            "  2.0052e+00 -1.7747e+00  5.9220e-01 -1.1428e+00 -1.3441e+00  3.4784e-01\n",
            "  1.7492e+00  1.9086e+00  1.0600e+00  1.2965e+00  4.1431e-01  7.9416e-01\n",
            " -1.1277e+00 -1.1403e+00  7.5891e-01 -9.4419e-01  1.4413e+00 -2.2554e+00\n",
            "  1.6226e-01  3.8901e-01  1.2299e-01  1.1577e+00  1.5524e+00  1.3853e+00\n",
            "  1.1112e+00  7.5767e-01  3.9431e+00 -2.8506e-01 -2.1645e+00 -1.0862e+00\n",
            " -1.4973e+00 -1.2781e+00  2.4643e+00 -1.5886e+00  2.5679e-01  6.4918e-01\n",
            "  1.6809e-01  5.7693e-01  3.1121e-01 -4.5278e-01 -2.7555e+00 -2.1846e+00\n",
            "  4.4865e+00  2.7107e-01 -5.3831e-01  8.3013e-01  6.7752e-02  1.4234e-01\n",
            "  1.2585e+00 -8.5423e-01  9.2971e-01 -3.9940e-01 -5.8663e-01  6.6604e-01\n",
            "  2.3871e+00  4.9333e-01  2.3922e+00 -3.7396e+00 -3.9524e-01 -6.3799e-01\n",
            "  3.3500e+00 -2.0430e+00 -1.5601e+00 -2.3594e+00 -1.4671e+00 -3.2848e+00\n",
            "  1.5197e+00 -1.1674e+00 -1.2885e+00  3.4890e+00 -4.0526e+00  1.6946e+00\n",
            " -1.5310e+00  2.6790e+00  1.2865e+00 -2.9286e-02  3.1037e+00  1.3635e-01\n",
            " -1.3327e-01  5.4603e-01  1.2937e+00 -2.3662e+00  2.8862e-01  1.6226e+00\n",
            "  6.3531e-01  1.5498e+00 -2.3349e+00  1.6150e+00 -2.0071e+00 -4.8784e-01\n",
            "  1.7768e+00 -2.6920e+00  1.6341e+00  4.0537e-01  3.7324e-01  7.8494e-01\n",
            "  1.3917e+00 -2.9035e-01  2.5224e+00  1.2485e+00 -1.5159e+00 -2.0832e+00\n",
            " -1.8766e-01 -1.3394e+00 -5.3597e-01 -2.4915e+00  1.6341e+00 -3.0336e+00\n",
            "  1.8791e-01 -2.4776e-01  1.6347e+00 -7.0009e-01  2.1221e+00 -2.3470e+00\n",
            " -2.1513e+00  1.2630e+00 -2.8195e-01 -5.6535e-01 -9.0373e-01  1.3455e+00\n",
            "  4.1099e+00  6.9325e-01  4.6835e-01  2.9949e-01 -3.2456e-01 -2.1713e+00\n",
            "  4.6691e-01 -1.3795e-01  6.0910e-01 -1.3374e+00 -8.3586e-01  1.8260e+00\n",
            " -4.5386e-01  1.2555e+00 -6.6705e-01 -3.0835e-01 -1.4692e-01  3.9952e+00\n",
            " -1.1289e+00  1.7926e-01 -5.8095e-01  6.2500e-01  2.6151e+00 -1.3212e+00\n",
            " -1.9355e+00  2.4898e+00 -1.7301e+00  8.6154e-01 -2.5272e+00 -3.0166e+00\n",
            "  5.8867e-01 -1.4207e-01  1.7611e+00 -1.0399e+00  5.7063e-01  7.2554e-01\n",
            "  8.7684e-01  1.6996e+00  1.1084e+00 -2.6877e-01 -2.2970e+00  1.8850e+00\n",
            "  1.2536e-01  1.1671e+00 -1.3038e+00  8.2640e-01  3.8002e-01 -1.0354e+00\n",
            "  2.2547e+00 -2.4526e-01  8.3622e-01 -7.9525e-01  1.4251e+00  4.5795e-02\n",
            "  2.5062e+00  7.2175e-01 -3.8197e-01  1.1387e+00  1.6779e+00 -1.6925e+00\n",
            "  8.2290e-02 -3.3117e-01 -6.1974e-01  8.0306e-01  2.1189e+00 -7.8231e-01\n",
            "  3.3266e-01 -7.1646e-01  1.7721e+00 -1.2573e+00  1.5601e-01  9.6129e-01\n",
            "  4.8986e-01  3.1657e+00 -3.0332e+00 -9.1339e-01 -2.8627e-01 -9.8174e-01\n",
            " -2.7599e+00  2.9160e+00 -1.1540e+00  2.9537e+00 -1.1502e+00 -2.2760e+00\n",
            "  1.1679e+00  2.0314e-01 -2.2882e+00  1.0485e+00 -4.9545e-01  2.4065e+00\n",
            "  9.1433e-01  1.3808e-01 -1.1361e+00 -1.2278e+00 -1.8958e+00 -2.4934e-01\n",
            " -4.1792e+00 -1.3781e+00 -8.9829e-01 -1.4802e+00 -1.2894e+00  2.2336e+00\n",
            " -2.4411e+00  3.0410e-01  2.1452e+00  1.8540e+00 -3.3640e-01  4.2768e-01\n",
            " -4.2577e-01  2.2337e-01  3.3650e+00 -2.1996e-01 -1.7426e+00  1.4554e+00\n",
            "  2.5087e+00 -1.1257e+00  1.4096e+00  1.3704e-01  7.6963e-01 -7.6688e-02\n",
            " -6.1875e-01 -2.0445e-01  4.9965e-01 -6.7246e-01 -4.0058e-01 -1.1536e+00\n",
            " -9.2837e-01 -2.5444e+00 -1.9880e-01 -2.1432e+00 -1.8218e+00 -5.7831e-01\n",
            " -1.6785e+00  2.6610e+00  1.0343e+00 -1.4297e+00  1.4563e+00 -2.0388e+00\n",
            " -1.4377e+00 -9.7985e-01  2.9488e+00 -2.7107e-01 -2.4010e-01 -1.3845e-01]\n"
          ]
        }
      ]
    },
    {
      "cell_type": "code",
      "source": [
        "apple = nlp('apple')\n",
        "banana = nlp('banana')\n",
        "gravity = nlp('gravity')\n",
        "\n",
        "print(f'Apple -> Banana similarity: {apple.similarity(banana)}')\n",
        "print(f'Apple -> Gravity similarity: {apple.similarity(gravity)}')\n",
        "print(f'Banana -> Gravity similarity: {banana.similarity(gravity)}')"
      ],
      "metadata": {
        "id": "XHQ4uUf4WI1G",
        "colab": {
          "base_uri": "https://localhost:8080/"
        },
        "outputId": "458ece6d-1ab0-471c-8666-296664edec4d"
      },
      "execution_count": null,
      "outputs": [
        {
          "output_type": "stream",
          "name": "stdout",
          "text": [
            "Apple -> Banana similarity: 0.6646700384869841\n",
            "Apple -> Gravity similarity: 0.1950858162480275\n",
            "Banana -> Gravity similarity: 0.07896224402806362\n"
          ]
        }
      ]
    },
    {
      "cell_type": "markdown",
      "metadata": {
        "id": "FD1qE_vCHWuG"
      },
      "source": [
        "### Spacy Document vectors\n",
        "\n",
        "From spacy we can get word2vec embeddings for each word in a document<br>\n",
        "We can create a document vector by averaging all the word vectors in that doc<br>\n",
        "We can calculate the similarity between documents now!"
      ]
    },
    {
      "cell_type": "code",
      "metadata": {
        "id": "6Vkq3tlyL2Xp"
      },
      "source": [
        "doc1 = nlp(\"On a hot summer day, it's good to drink water.\")\n",
        "doc2 = nlp(\"There are lots of cold drinks in the refrigerator.\")\n",
        "doc3 = nlp(\"cosine distance measures similarity\")"
      ],
      "execution_count": null,
      "outputs": []
    },
    {
      "cell_type": "code",
      "metadata": {
        "id": "zM5RbtPfL38t",
        "colab": {
          "base_uri": "https://localhost:8080/"
        },
        "outputId": "e94319eb-dedc-4400-b1e6-a42661e5ef9a"
      },
      "source": [
        "len(doc1.vector)"
      ],
      "execution_count": null,
      "outputs": [
        {
          "output_type": "execute_result",
          "data": {
            "text/plain": [
              "300"
            ]
          },
          "metadata": {},
          "execution_count": 39
        }
      ]
    },
    {
      "cell_type": "code",
      "metadata": {
        "id": "Lz5eGGl5MKxx",
        "colab": {
          "base_uri": "https://localhost:8080/"
        },
        "outputId": "8761d5dc-987b-4fbe-cc7e-038f3aad5d5d"
      },
      "source": [
        "type(doc)"
      ],
      "execution_count": null,
      "outputs": [
        {
          "output_type": "execute_result",
          "data": {
            "text/plain": [
              "spacy.tokens.doc.Doc"
            ]
          },
          "metadata": {},
          "execution_count": 43
        }
      ]
    },
    {
      "cell_type": "code",
      "metadata": {
        "nbgrader": {
          "grade": false,
          "grade_id": "cell-4a00f1280d6a3a32",
          "locked": false,
          "schema_version": 3,
          "solution": true,
          "task": false
        },
        "id": "CXNDY_VadRAV",
        "colab": {
          "base_uri": "https://localhost:8080/"
        },
        "outputId": "7937e0bd-3729-48c3-845f-3bc8042fd804"
      },
      "source": [
        "# Get the similarity of doc1 and doc2\n",
        "similarity = doc1.similarity(doc2)\n",
        "print(similarity)"
      ],
      "execution_count": null,
      "outputs": [
        {
          "output_type": "stream",
          "name": "stdout",
          "text": [
            "0.6108931607606939\n"
          ]
        }
      ]
    },
    {
      "cell_type": "code",
      "metadata": {
        "id": "plyigAgONqJ5",
        "colab": {
          "base_uri": "https://localhost:8080/"
        },
        "outputId": "c150bebd-f81d-4c36-9562-27b501ec7290"
      },
      "source": [
        "doc3.similarity(doc2)"
      ],
      "execution_count": null,
      "outputs": [
        {
          "output_type": "execute_result",
          "data": {
            "text/plain": [
              "0.5440013341813931"
            ]
          },
          "metadata": {},
          "execution_count": 41
        }
      ]
    },
    {
      "cell_type": "code",
      "metadata": {
        "id": "QbXwpFEvcdQG",
        "colab": {
          "base_uri": "https://localhost:8080/"
        },
        "outputId": "3fc37b6d-e196-4b05-8592-4c164bdec91d"
      },
      "source": [
        "doc3.similarity(doc1)"
      ],
      "execution_count": null,
      "outputs": [
        {
          "output_type": "execute_result",
          "data": {
            "text/plain": [
              "0.4692416983237825"
            ]
          },
          "metadata": {},
          "execution_count": 42
        }
      ]
    },
    {
      "cell_type": "markdown",
      "metadata": {
        "id": "fBwRFUIhzH79"
      },
      "source": [
        "## Challenge: can we make a \"thesaurus\"?<br>\n",
        "Given a query word, do you think we could find good synonyms  <br>\n",
        "by doing a nearest neighbor search on the `spacy` word embeddings?<br>\n",
        "Let's give it a try!"
      ]
    },
    {
      "cell_type": "markdown",
      "metadata": {
        "id": "93PNwg0ODA5k"
      },
      "source": [
        "First, get the embeddings for the vocabulary words and make a document-term matrix"
      ]
    },
    {
      "cell_type": "code",
      "metadata": {
        "id": "sKtrMIBTe4Ja",
        "colab": {
          "base_uri": "https://localhost:8080/"
        },
        "outputId": "d4b3c6bd-bc31-4511-9d97-15e10e2faabc"
      },
      "source": [
        "%%time\n",
        "vocab = list(nlp.vocab.strings)\n",
        "print(len(vocab))"
      ],
      "execution_count": null,
      "outputs": [
        {
          "output_type": "stream",
          "name": "stdout",
          "text": [
            "777057\n",
            "CPU times: user 226 ms, sys: 31 ms, total: 257 ms\n",
            "Wall time: 257 ms\n"
          ]
        }
      ]
    },
    {
      "cell_type": "code",
      "metadata": {
        "id": "HhvStTRcYt70",
        "colab": {
          "base_uri": "https://localhost:8080/"
        },
        "outputId": "12b53507-c7d1-454c-d7a4-5cd2435becfa"
      },
      "source": [
        "# eliminate duplicates due to mixing upper and lower case\n",
        "lower_vocab =[word.lower() for word in vocab]\n",
        "vocab = list(set(lower_vocab))\n",
        "print(len(vocab))"
      ],
      "execution_count": null,
      "outputs": [
        {
          "output_type": "stream",
          "name": "stdout",
          "text": [
            "428089\n"
          ]
        }
      ]
    },
    {
      "cell_type": "code",
      "metadata": {
        "id": "NYsIXtUlZobh",
        "colab": {
          "base_uri": "https://localhost:8080/"
        },
        "outputId": "3619ba27-df08-493c-aa98-936c305a9150"
      },
      "source": [
        "%%time\n",
        "word_vectors = [nlp.vocab.get_vector(word) for word in vocab]\n",
        "word_vectors = np.asarray(word_vectors)\n",
        "print(word_vectors.shape)"
      ],
      "execution_count": null,
      "outputs": [
        {
          "output_type": "stream",
          "name": "stdout",
          "text": [
            "(428089, 300)\n",
            "CPU times: user 12.8 s, sys: 1.46 s, total: 14.2 s\n",
            "Wall time: 14.1 s\n"
          ]
        }
      ]
    },
    {
      "cell_type": "markdown",
      "metadata": {
        "id": "PJuBDt0PEh3G"
      },
      "source": [
        "Fit a nearest-neighbors model to the document-term matrix"
      ]
    },
    {
      "cell_type": "code",
      "metadata": {
        "id": "IB3pAOhmto8W",
        "colab": {
          "base_uri": "https://localhost:8080/",
          "height": 109
        },
        "outputId": "b9a694c7-b3db-4171-b7fc-b97282c7bbbb"
      },
      "source": [
        "%%time\n",
        "nn = NearestNeighbors(n_neighbors=10, algorithm='auto')\n",
        "\n",
        "# fit to the document-term matrix of all the vocabulary words\n",
        "nn.fit(word_vectors)"
      ],
      "execution_count": null,
      "outputs": [
        {
          "output_type": "stream",
          "name": "stdout",
          "text": [
            "CPU times: user 50.4 ms, sys: 0 ns, total: 50.4 ms\n",
            "Wall time: 52.2 ms\n"
          ]
        },
        {
          "output_type": "execute_result",
          "data": {
            "text/plain": [
              "NearestNeighbors(n_neighbors=10)"
            ],
            "text/html": [
              "<style>#sk-container-id-2 {color: black;background-color: white;}#sk-container-id-2 pre{padding: 0;}#sk-container-id-2 div.sk-toggleable {background-color: white;}#sk-container-id-2 label.sk-toggleable__label {cursor: pointer;display: block;width: 100%;margin-bottom: 0;padding: 0.3em;box-sizing: border-box;text-align: center;}#sk-container-id-2 label.sk-toggleable__label-arrow:before {content: \"▸\";float: left;margin-right: 0.25em;color: #696969;}#sk-container-id-2 label.sk-toggleable__label-arrow:hover:before {color: black;}#sk-container-id-2 div.sk-estimator:hover label.sk-toggleable__label-arrow:before {color: black;}#sk-container-id-2 div.sk-toggleable__content {max-height: 0;max-width: 0;overflow: hidden;text-align: left;background-color: #f0f8ff;}#sk-container-id-2 div.sk-toggleable__content pre {margin: 0.2em;color: black;border-radius: 0.25em;background-color: #f0f8ff;}#sk-container-id-2 input.sk-toggleable__control:checked~div.sk-toggleable__content {max-height: 200px;max-width: 100%;overflow: auto;}#sk-container-id-2 input.sk-toggleable__control:checked~label.sk-toggleable__label-arrow:before {content: \"▾\";}#sk-container-id-2 div.sk-estimator input.sk-toggleable__control:checked~label.sk-toggleable__label {background-color: #d4ebff;}#sk-container-id-2 div.sk-label input.sk-toggleable__control:checked~label.sk-toggleable__label {background-color: #d4ebff;}#sk-container-id-2 input.sk-hidden--visually {border: 0;clip: rect(1px 1px 1px 1px);clip: rect(1px, 1px, 1px, 1px);height: 1px;margin: -1px;overflow: hidden;padding: 0;position: absolute;width: 1px;}#sk-container-id-2 div.sk-estimator {font-family: monospace;background-color: #f0f8ff;border: 1px dotted black;border-radius: 0.25em;box-sizing: border-box;margin-bottom: 0.5em;}#sk-container-id-2 div.sk-estimator:hover {background-color: #d4ebff;}#sk-container-id-2 div.sk-parallel-item::after {content: \"\";width: 100%;border-bottom: 1px solid gray;flex-grow: 1;}#sk-container-id-2 div.sk-label:hover label.sk-toggleable__label {background-color: #d4ebff;}#sk-container-id-2 div.sk-serial::before {content: \"\";position: absolute;border-left: 1px solid gray;box-sizing: border-box;top: 0;bottom: 0;left: 50%;z-index: 0;}#sk-container-id-2 div.sk-serial {display: flex;flex-direction: column;align-items: center;background-color: white;padding-right: 0.2em;padding-left: 0.2em;position: relative;}#sk-container-id-2 div.sk-item {position: relative;z-index: 1;}#sk-container-id-2 div.sk-parallel {display: flex;align-items: stretch;justify-content: center;background-color: white;position: relative;}#sk-container-id-2 div.sk-item::before, #sk-container-id-2 div.sk-parallel-item::before {content: \"\";position: absolute;border-left: 1px solid gray;box-sizing: border-box;top: 0;bottom: 0;left: 50%;z-index: -1;}#sk-container-id-2 div.sk-parallel-item {display: flex;flex-direction: column;z-index: 1;position: relative;background-color: white;}#sk-container-id-2 div.sk-parallel-item:first-child::after {align-self: flex-end;width: 50%;}#sk-container-id-2 div.sk-parallel-item:last-child::after {align-self: flex-start;width: 50%;}#sk-container-id-2 div.sk-parallel-item:only-child::after {width: 0;}#sk-container-id-2 div.sk-dashed-wrapped {border: 1px dashed gray;margin: 0 0.4em 0.5em 0.4em;box-sizing: border-box;padding-bottom: 0.4em;background-color: white;}#sk-container-id-2 div.sk-label label {font-family: monospace;font-weight: bold;display: inline-block;line-height: 1.2em;}#sk-container-id-2 div.sk-label-container {text-align: center;}#sk-container-id-2 div.sk-container {/* jupyter's `normalize.less` sets `[hidden] { display: none; }` but bootstrap.min.css set `[hidden] { display: none !important; }` so we also need the `!important` here to be able to override the default hidden behavior on the sphinx rendered scikit-learn.org. See: https://github.com/scikit-learn/scikit-learn/issues/21755 */display: inline-block !important;position: relative;}#sk-container-id-2 div.sk-text-repr-fallback {display: none;}</style><div id=\"sk-container-id-2\" class=\"sk-top-container\"><div class=\"sk-text-repr-fallback\"><pre>NearestNeighbors(n_neighbors=10)</pre><b>In a Jupyter environment, please rerun this cell to show the HTML representation or trust the notebook. <br />On GitHub, the HTML representation is unable to render, please try loading this page with nbviewer.org.</b></div><div class=\"sk-container\" hidden><div class=\"sk-item\"><div class=\"sk-estimator sk-toggleable\"><input class=\"sk-toggleable__control sk-hidden--visually\" id=\"sk-estimator-id-2\" type=\"checkbox\" checked><label for=\"sk-estimator-id-2\" class=\"sk-toggleable__label sk-toggleable__label-arrow\">NearestNeighbors</label><div class=\"sk-toggleable__content\"><pre>NearestNeighbors(n_neighbors=10)</pre></div></div></div></div></div>"
            ]
          },
          "metadata": {},
          "execution_count": 48
        }
      ]
    },
    {
      "cell_type": "markdown",
      "metadata": {
        "id": "qdrcAOcfChy0"
      },
      "source": [
        "Choose a query word, for which you want to find synonyms"
      ]
    },
    {
      "cell_type": "code",
      "metadata": {
        "id": "8pBxmi4O5rhp",
        "colab": {
          "base_uri": "https://localhost:8080/"
        },
        "outputId": "6d25c0cd-b1b4-4509-cfdb-6ae72d15782e"
      },
      "source": [
        "query_word = 'cool'\n",
        "query_vector = nlp.vocab.get_vector(query_word)[None,:]\n",
        "query_vector.shape"
      ],
      "execution_count": null,
      "outputs": [
        {
          "output_type": "execute_result",
          "data": {
            "text/plain": [
              "(1, 300)"
            ]
          },
          "metadata": {},
          "execution_count": 51
        }
      ]
    },
    {
      "cell_type": "markdown",
      "metadata": {
        "id": "qRbtlDz0EI6Q"
      },
      "source": [
        "Find the nearest neighbors to the query, from spacy's vocabulary"
      ]
    },
    {
      "cell_type": "code",
      "metadata": {
        "id": "plA09PgS68Sc",
        "colab": {
          "base_uri": "https://localhost:8080/"
        },
        "outputId": "c12e4fba-8d6c-4c6b-f62a-77b215dace33"
      },
      "source": [
        "neigh_dist, neigh_index = nn.kneighbors(query_vector, n_neighbors=20)\n",
        "[vocab[int(index)] for index in neigh_index[0]]"
      ],
      "execution_count": null,
      "outputs": [
        {
          "output_type": "execute_result",
          "data": {
            "text/plain": [
              "['cool',\n",
              " 'cool-',\n",
              " 'cooly',\n",
              " 'cool--',\n",
              " 'cooler',\n",
              " 'awesome',\n",
              " 'nicey',\n",
              " 'nice-',\n",
              " 'coolie',\n",
              " 'nice',\n",
              " 'coolly',\n",
              " 'coolest',\n",
              " 'chilly',\n",
              " 'refreeze',\n",
              " 'nice--',\n",
              " 'refreshing',\n",
              " 'refreezing',\n",
              " 'chill',\n",
              " 'toasty',\n",
              " 'cooled']"
            ]
          },
          "metadata": {},
          "execution_count": 52
        }
      ]
    },
    {
      "cell_type": "markdown",
      "metadata": {
        "id": "_JftffA2DK2Y"
      },
      "source": [
        "## Can we visualize word vectors?\n",
        "\n",
        "300 dimensional word vectors are difficult (impossible) to visualize! <br>\n",
        "However, we can use Principal Components Analysis (PCA) to reduce their dimensionality. <br>\n",
        "\n",
        "PCA is one of the most important techniques in machine learning, and indeed in all of mathematics! PCA transforms the feature vectors of a data set to their \"Principal Components\", which are ranked in order of their importance in describing the data set. By eliminating the less important Principal Components, we can reduce the dimensionality of the data set, at the cost of losing some information.\n",
        "\n",
        "If you're interested to explore this topic in greater depth, here are a couple of references:\n",
        "- One of the best brief introductions to the mathematics of PCA is [Daniela Witten's tweetstorm](https://twitter.com/womeninstat/status/1285610321747611653?lang=en)\n",
        "- For a more in-depth, but still understandable exposition of PCA, watch the Statquest video [Principal Component Analysis (PCA), Step-by-Step](https://youtu.be/FgakZw6K1QQ) from Josh Starmer.\n",
        "\n",
        "Now let's use PCA to reduce our 300-dimensional word vectors down to two dimensions, so that we can visualize them in a plane. Of course, in the process we lose a lot of information, but these 2D word vectors still pack a surprising amount of information!"
      ]
    },
    {
      "cell_type": "code",
      "metadata": {
        "nbgrader": {
          "grade": false,
          "grade_id": "cell-c54d3921b438215d",
          "locked": false,
          "schema_version": 3,
          "solution": true,
          "task": false
        },
        "id": "WNGfmJ13dRAV",
        "colab": {
          "base_uri": "https://localhost:8080/"
        },
        "outputId": "9f8f6d29-22c5-4342-beac-82c9156b7f7c"
      },
      "source": [
        "# import the PCA module from sklearn\n",
        "from sklearn.decomposition import PCA\n",
        "\n",
        "def get_word_vectors(words):\n",
        "    # converts a list of words into their word vectors\n",
        "    return [nlp(word).vector for word in words]\n",
        "\n",
        "words = ['machine learning', 'man', 'woman',  'king', 'queen',\n",
        "         'artificial intelligence', 'nurse', 'doctor',\n",
        "         'data', 'science', 'concrete', 'wood',  'marble',\n",
        "         'design', 'color', 'font']\n",
        "\n",
        "\n",
        "word_vectors = get_word_vectors(words)\n",
        "\n",
        "\n",
        "# intialise pca model and tell it to project data down onto 2 dimensions\n",
        "\n",
        "# fit the pca model to our 300D data, this will work out which is the best\n",
        "# way to project the data down that will best maintain the relative distances\n",
        "# between data points. It will store these intructioons on how to transform the data.\n",
        "\n",
        "# Tell our (fitted) pca model to transform our 300D data down onto 2D using the\n",
        "# instructions it learnt during the fit phase.\n",
        "\n",
        "# let's look at our new 2D word vectors\n",
        "\n",
        "# intialise pca model and tell it to project data down onto 2 dimensions\n",
        "pca = PCA(n_components=2)\n",
        "\n",
        "# fit the pca model to our 300D data, this will work out which is the best\n",
        "# way to project the data down that will best maintain the relative distances\n",
        "# between data points. It will store these intructioons on how to transform the data.\n",
        "pca.fit(word_vectors)\n",
        "\n",
        "# Tell our (fitted) pca model to transform our 300D data down onto 2D using the\n",
        "# instructions it learnt during the fit phase.\n",
        "word_vecs_2d = pca.transform(word_vectors)\n",
        "\n",
        "# let's look at our new 2D word vectors\n",
        "word_vecs_2d"
      ],
      "execution_count": null,
      "outputs": [
        {
          "output_type": "execute_result",
          "data": {
            "text/plain": [
              "array([[ 12.11743258,  -2.77693012],\n",
              "       [-45.54898063, -15.27549239],\n",
              "       [-34.80068426, -14.77403133],\n",
              "       [-19.34695307,  -9.30238425],\n",
              "       [-23.62047068,  -2.28660117],\n",
              "       [ 10.62450152,  -7.24286534],\n",
              "       [-17.07648744, -16.99066889],\n",
              "       [-15.69730945, -17.9996428 ],\n",
              "       [ 66.71193105, -40.34772401],\n",
              "       [ 14.04759063, -15.37321516],\n",
              "       [  9.00471304,  13.81359345],\n",
              "       [  3.76143786,  44.43499691],\n",
              "       [ -3.62989266,  24.93806863],\n",
              "       [ 22.71976886,  15.07595384],\n",
              "       [ 10.63557368,  23.65722858],\n",
              "       [ 10.09782897,  20.44971404]])"
            ]
          },
          "metadata": {},
          "execution_count": 53
        }
      ]
    },
    {
      "cell_type": "code",
      "metadata": {
        "id": "mjxAfKfodRAV",
        "colab": {
          "base_uri": "https://localhost:8080/",
          "height": 681
        },
        "outputId": "d2f1cc00-1286-4a4a-fdbd-cb72ae71f0c0"
      },
      "source": [
        "# create a nice big plot\n",
        "plt.figure(figsize=(12,8))\n",
        "\n",
        "# plot the scatter plot of where the words will be\n",
        "plt.scatter(word_vecs_2d[:,0], word_vecs_2d[:,1])\n",
        "\n",
        "# for each word and coordinate pair: draw the text on the plot\n",
        "for word, coord in zip(words, word_vecs_2d):\n",
        "    x, y = coord\n",
        "    plt.text(x, y, word, size= 15)\n",
        "\n",
        "# show the plot\n",
        "plt.grid();\n",
        "plt.show()"
      ],
      "execution_count": null,
      "outputs": [
        {
          "output_type": "display_data",
          "data": {
            "text/plain": [
              "<Figure size 1200x800 with 1 Axes>"
            ],
            "image/png": "[encoded data removed]"
          },
          "metadata": {}
        }
      ]
    },
    {
      "cell_type": "markdown",
      "metadata": {
        "id": "ruZeW9_ZDACQ"
      },
      "source": [
        "### Spend a few minutes exploring the magic of word vectors!\n",
        "Create your own `words` list and run it through the code in the above two cells. <br>\n",
        "Perhaps include clusters of words that have similar meanings or that might <br>reveal implicit gender bias or some other kind of bias. What did you find out?"
      ]
    },
    {
      "cell_type": "markdown",
      "metadata": {
        "id": "6uAb_h7ldRAW"
      },
      "source": [
        "## Challenge\n",
        "\n",
        "You will extract word embeddings from documents using Spacy's pre-trained model in the upcoming module project."
      ]
    },
    {
      "cell_type": "markdown",
      "metadata": {
        "id": "KUWsVDc4dRAW"
      },
      "source": [
        "## King - Man + Woman = Queen\n",
        "\n",
        "Check out [**The amazing power of word vectors**](https://blog.acolyer.org/2016/04/21/the-amazing-power-of-word-vectors/), which explores the above equation"
      ]
    },
    {
      "cell_type": "markdown",
      "metadata": {
        "id": "yEkjvdD5dRAW"
      },
      "source": [
        "# Sources\n",
        "\n",
        "* Spacy 101 - https://course.spacy.io\n",
        "* NLTK Book - https://www.nltk.org/book/\n",
        "* An Introduction to Information Retrieval - https://nlp.stanford.edu/IR-book/pdf/irbookonlinereading.pdf"
      ]
    }
  ]
}